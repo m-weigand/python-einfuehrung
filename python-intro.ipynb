{
 "cells": [
  {
   "cell_type": "markdown",
   "metadata": {
    "deletable": true,
    "editable": true
   },
   "source": [
    "Kurs basierend auf: https://github.com/arne-cl/python-einfuehrung\n",
    "\n",
    "Aktuelle Version: https://github.com/m-weigand/python-einfuehrung\n",
    "\n",
    "# Python-Einführung\n",
    "\n",
    "* wir verwenden Python 3 \n",
    "* Oberfläche im Browser: IPython Notebook https://www.ipython.org\n",
    "* Programmieren lernt man nur durch Programmieren!\n",
    "* Nachvollziehen ist gut, Nachprogrammieren besser!\n",
    "* Benutzt die Hilfe (im Menü von IPython)\n",
    "* http://stackoverflow.com ist eine sehr gute Quelle für praktische Tips \n",
    "\n",
    "## Für den Heimgebrauch:\n",
    "\n",
    "* Minimalanforderung: Python-Interpreter und einen Text-Editor\n",
    "- wird bei Linux schon mitgeliefert, ansonsten: https://www.python.org/downloads/\n",
    "* Für Windows: Komplettpacket: https://www.continuum.io/downloads\n",
    "\n",
    "## Vorgehen:\n",
    "\n",
    "* tippt die untenstehenden Beispiele ein und führt sie aus, spielt mit den Programmen herum\n",
    "* Der Code in einer Zelle kann durch das Menü ausgeführt werden: \"Cell\" -> \"Run\"\n",
    "* Alternativ: SHIFT + ENTER\n",
    "* Alternativ: STRG + ENTER\n",
    "* zu einigen Beispielen gibt es Aufgaben"
   ]
  },
  {
   "cell_type": "markdown",
   "metadata": {
    "deletable": true,
    "editable": true
   },
   "source": [
    "Die folgenen Zeilen bereiten die Grafikausgabe und einige wichtige Packetevor:"
   ]
  },
  {
   "cell_type": "code",
   "execution_count": null,
   "metadata": {
    "collapsed": false,
    "deletable": true,
    "editable": true
   },
   "outputs": [],
   "source": [
    "%matplotlib inline\n",
    "import matplotlib.pyplot as plt\n",
    "import matplotlib as mpl\n",
    "import numpy as np"
   ]
  },
  {
   "cell_type": "markdown",
   "metadata": {
    "deletable": true,
    "editable": true
   },
   "source": [
    "# -1 Mandelbrot-Menge\n",
    "https://en.wikipedia.org/wiki/Mandelbrot_set"
   ]
  },
  {
   "cell_type": "code",
   "execution_count": null,
   "metadata": {
    "collapsed": false,
    "deletable": true,
    "editable": true
   },
   "outputs": [],
   "source": [
    "import numpy as np\n",
    "import scipy as sp\n",
    "\n",
    "# an diesen Punkten berechnen wir das Fraktal\n",
    "x,y = np.ogrid[-2:1:500j,-1.5:1.5:500j]\n",
    "\n",
    "# wir wollen Schwarz/Weiß plotten\n",
    "colormap = mpl.cm.get_cmap('prism')\n",
    "c = x + 1j*y\n",
    "z = 0\n",
    "d = 2\n",
    "threshold = 2\n",
    "\n",
    "anzahl_iterationen = 2\n",
    "for g in range(2, anzahl_iterationen):\n",
    "    z = z**d + c\n",
    "    mask = np.abs(z) < threshold\n",
    "\n",
    "    fig, ax = plt.subplots(1, 1, figsize=(7, 7))\n",
    "    ax.imshow(mask.T,\n",
    "              extent=[-2,1,-1.5,1.5],\n",
    "              cmap=colormap)"
   ]
  },
  {
   "cell_type": "markdown",
   "metadata": {
    "deletable": true,
    "editable": true
   },
   "source": [
    "### Aufgaben:\n",
    "\n",
    "* Ändere die Anzahl an Iterationen auf die Werte 7 und 10\n",
    "* Ändere die benutze Farbtafel von 'binary_r' in 'seismic' und 'prism'\n",
    "* Ändere d zwischen 0 und 5 (z.B. 1.5)"
   ]
  },
  {
   "cell_type": "markdown",
   "metadata": {
    "deletable": true,
    "editable": true
   },
   "source": [
    "## # 0 Ausgabe"
   ]
  },
  {
   "cell_type": "code",
   "execution_count": null,
   "metadata": {
    "collapsed": false,
    "deletable": true,
    "editable": true
   },
   "outputs": [],
   "source": [
    "print('Hallo Welt')"
   ]
  },
  {
   "cell_type": "code",
   "execution_count": null,
   "metadata": {
    "collapsed": false,
    "deletable": true,
    "editable": true
   },
   "outputs": [],
   "source": [
    "print('a', 'b')"
   ]
  },
  {
   "cell_type": "markdown",
   "metadata": {
    "deletable": true,
    "editable": true
   },
   "source": [
    "Im IPython Notebook wird jedoch immer der Rückgabewert der letzten Zeile automatisch ausgegeben:"
   ]
  },
  {
   "cell_type": "code",
   "execution_count": null,
   "metadata": {
    "collapsed": false,
    "deletable": true,
    "editable": true
   },
   "outputs": [],
   "source": [
    "'Hallo Welt'"
   ]
  },
  {
   "cell_type": "code",
   "execution_count": null,
   "metadata": {
    "collapsed": false,
    "deletable": true,
    "editable": true
   },
   "outputs": [],
   "source": [
    "'Dies hier wird nicht ausgeben'\n",
    "'Dies hier aber'"
   ]
  },
  {
   "cell_type": "markdown",
   "metadata": {
    "deletable": true,
    "editable": true,
    "slideshow": {
     "slide_type": "-"
    }
   },
   "source": [
    "# 1. Datentypen\n",
    "\n",
    "## 1.1 Zahlen\n",
    "\n",
    "* Ganzzahlen (`int`): 0, -23, 987654321\n",
    "* Gleitkommazahlen (`float`): 0.1, 3.14159\n"
   ]
  },
  {
   "cell_type": "code",
   "execution_count": null,
   "metadata": {
    "collapsed": false,
    "deletable": true,
    "editable": true,
    "slideshow": {
     "slide_type": "fragment"
    }
   },
   "outputs": [],
   "source": [
    "2 + 3"
   ]
  },
  {
   "cell_type": "code",
   "execution_count": null,
   "metadata": {
    "collapsed": false,
    "deletable": true,
    "editable": true,
    "slideshow": {
     "slide_type": "fragment"
    }
   },
   "outputs": [],
   "source": [
    "2 * 3"
   ]
  },
  {
   "cell_type": "code",
   "execution_count": null,
   "metadata": {
    "collapsed": false,
    "deletable": true,
    "editable": true,
    "slideshow": {
     "slide_type": "fragment"
    }
   },
   "outputs": [],
   "source": [
    "2 ** 3"
   ]
  },
  {
   "cell_type": "markdown",
   "metadata": {
    "deletable": true,
    "editable": true,
    "slideshow": {
     "slide_type": "slide"
    }
   },
   "source": [
    "# 1.2 Division\n"
   ]
  },
  {
   "cell_type": "code",
   "execution_count": null,
   "metadata": {
    "collapsed": false,
    "deletable": true,
    "editable": true,
    "slideshow": {
     "slide_type": "fragment"
    }
   },
   "outputs": [],
   "source": [
    "2 / 3"
   ]
  },
  {
   "cell_type": "code",
   "execution_count": null,
   "metadata": {
    "collapsed": false,
    "deletable": true,
    "editable": true,
    "slideshow": {
     "slide_type": "fragment"
    }
   },
   "outputs": [],
   "source": [
    "2.0 / 3"
   ]
  },
  {
   "cell_type": "markdown",
   "metadata": {
    "deletable": true,
    "editable": true
   },
   "source": [
    "Verwende die Funktion `float()`, wenn eine Ganzzahl (oder einen String, der eine Ganzzahl repräsentiert) in eine Gleitkommazahl umgewandelt werden soll:"
   ]
  },
  {
   "cell_type": "code",
   "execution_count": null,
   "metadata": {
    "collapsed": false,
    "deletable": true,
    "editable": true
   },
   "outputs": [],
   "source": [
    "float(3)"
   ]
  },
  {
   "cell_type": "code",
   "execution_count": null,
   "metadata": {
    "collapsed": false,
    "deletable": true,
    "editable": true
   },
   "outputs": [],
   "source": [
    "float(\"3\")"
   ]
  },
  {
   "cell_type": "markdown",
   "metadata": {
    "deletable": true,
    "editable": true,
    "slideshow": {
     "slide_type": "slide"
    }
   },
   "source": [
    "# 2. Zeichenketten (Strings)\n",
    "\n",
    "* Sequenz von einzelnen Zeichen\n",
    "* eingeschlossen in 'einfachen' _oder_ \"doppelten\" Anführungszeichen\n",
    "* mehrzeilige Strings in ''' oder \"\"\" eingeschlossen\n",
    "* _immutable_"
   ]
  },
  {
   "cell_type": "markdown",
   "metadata": {
    "deletable": true,
    "editable": true
   },
   "source": [
    "## Beispiele\n",
    "\n",
    "* 'a', \"Übermorgen\"\n",
    "* \"Майдан Незалежності\", '피미즘 선교 교회''\n",
    "\n",
    "Einen mehrzeiligen String können wir so allerdings nicht eingeben. Nach Eingabe der Enter/Return-Taste erscheint eine Fehlermeldung:"
   ]
  },
  {
   "cell_type": "code",
   "execution_count": null,
   "metadata": {
    "collapsed": false,
    "deletable": true,
    "editable": true
   },
   "outputs": [],
   "source": [
    "# \"Hallo Siggi,"
   ]
  },
  {
   "cell_type": "markdown",
   "metadata": {
    "deletable": true,
    "editable": true
   },
   "source": [
    "Mehrzeilige Strings (können beliebig viele Zeilenumbrüche und Leerzeichen enthalten) werden in dreifache Anführungszeichen (' oder \") gesetzt:"
   ]
  },
  {
   "cell_type": "markdown",
   "metadata": {
    "deletable": true,
    "editable": true,
    "slideshow": {
     "slide_type": "subslide"
    }
   },
   "source": [
    "```\n",
    "\"\"\"Hallo Siggi,\n",
    "ich hab mein Passwort vergessen.\n",
    "Kannst du meins bitte zurücksetzen?\"\"\"\n",
    "```"
   ]
  },
  {
   "cell_type": "markdown",
   "metadata": {
    "deletable": true,
    "editable": true,
    "slideshow": {
     "slide_type": "slide"
    }
   },
   "source": [
    "# 3. Escaping: Anführungszeichen in Zeichenketten\n",
    "\n",
    "* '-Anführungszeichen in einem '-String müssen _escaped_ werden: \\'\n",
    "* \"-Anführungszeichen in einem \"-String müssen _escaped_ werden: \\\""
   ]
  },
  {
   "cell_type": "code",
   "execution_count": null,
   "metadata": {
    "collapsed": false,
    "deletable": true,
    "editable": true,
    "slideshow": {
     "slide_type": "fragment"
    }
   },
   "outputs": [],
   "source": [
    "'Er sagte, 'So geht es nicht'.'"
   ]
  },
  {
   "cell_type": "code",
   "execution_count": null,
   "metadata": {
    "collapsed": false,
    "deletable": true,
    "editable": true,
    "slideshow": {
     "slide_type": "fragment"
    }
   },
   "outputs": [],
   "source": [
    "'Er sagte, \\'So geht es nicht\\'.'"
   ]
  },
  {
   "cell_type": "markdown",
   "metadata": {
    "deletable": true,
    "editable": true,
    "slideshow": {
     "slide_type": "slide"
    }
   },
   "source": [
    "## 3.1 Escaping für Faule\n",
    "\n",
    "* Trick: '-Anführungszeichen in \"-String escapen\n",
    "* Trick: \"-Anführungszeichen in '-String escapen"
   ]
  },
  {
   "cell_type": "code",
   "execution_count": null,
   "metadata": {
    "collapsed": false,
    "deletable": true,
    "editable": true,
    "slideshow": {
     "slide_type": "fragment"
    }
   },
   "outputs": [],
   "source": [
    "\"Er sagte, 'So geht es nicht'.\""
   ]
  },
  {
   "cell_type": "code",
   "execution_count": null,
   "metadata": {
    "collapsed": false,
    "deletable": true,
    "editable": true,
    "slideshow": {
     "slide_type": "fragment"
    }
   },
   "outputs": [],
   "source": [
    "'Er sagte, \"So geht es nicht\".'"
   ]
  },
  {
   "cell_type": "markdown",
   "metadata": {
    "deletable": true,
    "editable": true
   },
   "source": [
    "# 4. Tupel\n",
    "\n",
    "* kann Elemente verschiedenen Typs enthalten\n",
    "* indizierbar; Zählung beginnt bei 0"
   ]
  },
  {
   "cell_type": "code",
   "execution_count": null,
   "metadata": {
    "collapsed": false,
    "deletable": true,
    "editable": true
   },
   "outputs": [],
   "source": [
    "lotto = (6, 9, 12, 24, 36, 41)\n",
    "print(lotto[1]) # gibt das 2. Element des lotto-Tupels auf dem Bildschirm aus"
   ]
  },
  {
   "cell_type": "code",
   "execution_count": null,
   "metadata": {
    "collapsed": false,
    "deletable": true,
    "editable": true
   },
   "outputs": [],
   "source": [
    "lotto[1] = 42 # Wir können einem Element des Tupels nicht nachträglich einen neuen Wert zuweisen (_immutable_)"
   ]
  },
  {
   "cell_type": "code",
   "execution_count": null,
   "metadata": {
    "collapsed": false,
    "deletable": true,
    "editable": true
   },
   "outputs": [],
   "source": [
    "print(lotto) # unverändert"
   ]
  },
  {
   "cell_type": "code",
   "execution_count": null,
   "metadata": {
    "collapsed": false,
    "deletable": true,
    "editable": true
   },
   "outputs": [],
   "source": [
    "gemischte_liste = ([1,2,3], 3.14, 'Chomsky')\n",
    "print(gemischte_liste[0])"
   ]
  },
  {
   "cell_type": "markdown",
   "metadata": {
    "deletable": true,
    "editable": true
   },
   "source": [
    "# 5. Listen\n",
    "\n",
    "* geordnete Sammlung von Elementen (verschiedenen Typs)\n",
    "* indizierbar; Zählung beginnt bei 0\n",
    "* _mutable_: Elemente können nachträglich verändert werden (anhängen, löschen)"
   ]
  },
  {
   "cell_type": "code",
   "execution_count": null,
   "metadata": {
    "collapsed": false,
    "deletable": true,
    "editable": true
   },
   "outputs": [],
   "source": [
    "einkauf = ['brot', 'butter']\n",
    "einkauf.append('milch')\n",
    "print(len(einkauf), einkauf)"
   ]
  },
  {
   "cell_type": "code",
   "execution_count": null,
   "metadata": {
    "collapsed": false,
    "deletable": true,
    "editable": true
   },
   "outputs": [],
   "source": [
    "einkauf[2] = 'käse' # Wert des 3. Elements der einkauf-Liste wird verändert\n",
    "print(len(einkauf), einkauf)"
   ]
  },
  {
   "cell_type": "code",
   "execution_count": null,
   "metadata": {
    "collapsed": false,
    "deletable": true,
    "editable": true
   },
   "outputs": [],
   "source": [
    "print(einkauf[2])"
   ]
  },
  {
   "cell_type": "code",
   "execution_count": null,
   "metadata": {
    "collapsed": false,
    "deletable": true,
    "editable": true
   },
   "outputs": [],
   "source": [
    "einkauf.pop(0) # nulltes Element entfernen\n",
    "print(len(einkauf), einkauf)"
   ]
  },
  {
   "cell_type": "code",
   "execution_count": null,
   "metadata": {
    "collapsed": false,
    "deletable": true,
    "editable": true
   },
   "outputs": [],
   "source": [
    "einkauf[2] = 'kwas' # mit der Index-Notation können wir nur bestehende Elemente verändern, aber keine Neuen hinzufügen"
   ]
  },
  {
   "cell_type": "code",
   "execution_count": null,
   "metadata": {
    "collapsed": false,
    "deletable": true,
    "editable": true
   },
   "outputs": [],
   "source": [
    "einkauf.append('kwas')\n",
    "print(einkauf)"
   ]
  },
  {
   "cell_type": "markdown",
   "metadata": {
    "deletable": true,
    "editable": true
   },
   "source": [
    "# 6. Dictionaries\n",
    "\n",
    "* Menge von Attribut-Wert-Paaren / _hash map_ / \"key-value store\"\n",
    "* schneller Zugriff auf Keys (konstant)\n",
    "* \"Datenbank für Arme\""
   ]
  },
  {
   "cell_type": "markdown",
   "metadata": {
    "deletable": true,
    "editable": true
   },
   "source": [
    "Wir basteln uns eine kleine Datenbank der aktuellen Bundesregierung. Die Tätigkeitsbeschreibung speichern wir als Attribute (_Keys_) und die zugehörigen Personen als Werte (_Values_):"
   ]
  },
  {
   "cell_type": "code",
   "execution_count": null,
   "metadata": {
    "collapsed": false,
    "deletable": true,
    "editable": true
   },
   "outputs": [],
   "source": [
    "jobs = {'chef': 'angie',\n",
    "        'aussen': 'frank-walter',\n",
    "        'innen': 'thomas',\n",
    "        'krieg': 'zensursula',\n",
    "        'gedöns': 'manuela'}"
   ]
  },
  {
   "cell_type": "markdown",
   "metadata": {
    "deletable": true,
    "editable": true
   },
   "source": [
    "Wir können unsere Datenbank (das _jobs_ Dictionary) jetzt abfragen:"
   ]
  },
  {
   "cell_type": "code",
   "execution_count": null,
   "metadata": {
    "collapsed": false,
    "deletable": true,
    "editable": true
   },
   "outputs": [],
   "source": [
    "print(jobs['krieg']) # einen Key abfragen"
   ]
  },
  {
   "cell_type": "code",
   "execution_count": null,
   "metadata": {
    "collapsed": false,
    "deletable": true,
    "editable": true
   },
   "outputs": [],
   "source": [
    "print(jobs['entwicklung']) # Key existiert nicht"
   ]
  },
  {
   "cell_type": "markdown",
   "metadata": {
    "deletable": true,
    "editable": true
   },
   "source": [
    "Wir haben vergessen, den \"Entwicklungshilfe\"-Minister einzutragen (das _jobs_ Dictionary enthält kein Attribut _\"entwicklung\"_) und bekommen daher eine Fehlermeldung. Alternativ können wir das Dictionary auch so abfragen, dass kein Fehler entsteht:"
   ]
  },
  {
   "cell_type": "code",
   "execution_count": null,
   "metadata": {
    "collapsed": false,
    "deletable": true,
    "editable": true
   },
   "outputs": [],
   "source": [
    "'entwicklung' in jobs"
   ]
  },
  {
   "cell_type": "markdown",
   "metadata": {
    "deletable": true,
    "editable": true
   },
   "source": [
    "Statt eines Wahrheitswerts können wir auch einen selbstgewählten Wert (_default value_) zurückgeben, wenn ein Key nicht im Dictionary vorhanden ist:"
   ]
  },
  {
   "cell_type": "code",
   "execution_count": null,
   "metadata": {
    "collapsed": false,
    "deletable": true,
    "editable": true
   },
   "outputs": [],
   "source": [
    "print(jobs.get('aussen', 'Stelle frei!1!!')) # Attribut vorhanden, Wert wird zurückgegeben"
   ]
  },
  {
   "cell_type": "code",
   "execution_count": null,
   "metadata": {
    "collapsed": false,
    "deletable": true,
    "editable": true
   },
   "outputs": [],
   "source": [
    "print(jobs.get('entwicklung', 'Stelle frei!1!!')) # Attribut nicht vorhanden, Default-Wert wird zurückgegeben"
   ]
  },
  {
   "cell_type": "code",
   "execution_count": null,
   "metadata": {
    "collapsed": false,
    "deletable": true,
    "editable": true
   },
   "outputs": [],
   "source": [
    "jobs['entwicklung'] = 'gerd' # Attribut-Wert-Paar hinzufügen\n",
    "print(jobs) # gibt das komplette Dictionary aus"
   ]
  },
  {
   "cell_type": "code",
   "execution_count": null,
   "metadata": {
    "collapsed": false,
    "deletable": true,
    "editable": true
   },
   "outputs": [],
   "source": [
    "print(jobs.items()) # Ausgabe als Liste von (Attribut, Wert)-Tupeln"
   ]
  },
  {
   "cell_type": "markdown",
   "metadata": {
    "deletable": true,
    "editable": true
   },
   "source": [
    "# 7. Mengen (Sets)\n",
    "\n",
    "* ungeordnete Sammlung von Elementen (auch unterschiedlichen Typs)\n",
    "* jedes Element kommt nur einmal vor"
   ]
  },
  {
   "cell_type": "code",
   "execution_count": null,
   "metadata": {
    "collapsed": false,
    "deletable": true,
    "editable": true
   },
   "outputs": [],
   "source": [
    "leere_menge = set()\n",
    "print(leere_menge)"
   ]
  },
  {
   "cell_type": "code",
   "execution_count": null,
   "metadata": {
    "collapsed": false,
    "deletable": true,
    "editable": true
   },
   "outputs": [],
   "source": [
    "foo = set([0.2,7,2,1,1,1,3,3,6])\n",
    "print(foo) # Mengen sind unsortiert!"
   ]
  },
  {
   "cell_type": "markdown",
   "metadata": {
    "deletable": true,
    "editable": true
   },
   "source": [
    "Mithilfe der Funktion `sorted()` können Mengen, Listen, Tupel usw. sortiert werden (numerisch, lexikographisch)"
   ]
  },
  {
   "cell_type": "code",
   "execution_count": null,
   "metadata": {
    "collapsed": false,
    "deletable": true,
    "editable": true
   },
   "outputs": [],
   "source": [
    "sorted(foo)"
   ]
  },
  {
   "cell_type": "code",
   "execution_count": null,
   "metadata": {
    "collapsed": false,
    "deletable": true,
    "editable": true
   },
   "outputs": [],
   "source": [
    "zahlen = set([1,2,3])\n",
    "mehr_zahlen = {3,4,5} # Alternativschreibweise, nicht mit Dictionary verwechseln!\n",
    "print(zahlen, mehr_zahlen)"
   ]
  },
  {
   "cell_type": "code",
   "execution_count": null,
   "metadata": {
    "collapsed": false,
    "deletable": true,
    "editable": true
   },
   "outputs": [],
   "source": [
    "3 in zahlen # Mitgliedschaft testen"
   ]
  },
  {
   "cell_type": "code",
   "execution_count": null,
   "metadata": {
    "collapsed": false,
    "deletable": true,
    "editable": true
   },
   "outputs": [],
   "source": [
    "zahlen.intersection(mehr_zahlen) # Schnittmenge beider Mengen"
   ]
  },
  {
   "cell_type": "code",
   "execution_count": null,
   "metadata": {
    "collapsed": false,
    "deletable": true,
    "editable": true
   },
   "outputs": [],
   "source": [
    "zahlen.add(\"Buchstaben sind auch ok.\")\n",
    "print(zahlen)"
   ]
  },
  {
   "cell_type": "code",
   "execution_count": null,
   "metadata": {
    "collapsed": false,
    "deletable": true,
    "editable": true
   },
   "outputs": [],
   "source": [
    "a = {1,2,3}\n",
    "b = {3,4,5}\n",
    "c = {3,7,9}\n",
    "\n",
    "a.intersection(b,c) # Schnittmenge der Mengen A, B und C"
   ]
  },
  {
   "cell_type": "markdown",
   "metadata": {
    "deletable": true,
    "editable": true,
    "slideshow": {
     "slide_type": "slide"
    }
   },
   "source": [
    "# 8. Variablen\n",
    "\n",
    "* Platzhalter für bestimmte Werte\n",
    "* können nachträglich verändert werden"
   ]
  },
  {
   "cell_type": "code",
   "execution_count": null,
   "metadata": {
    "collapsed": false,
    "deletable": true,
    "editable": true,
    "slideshow": {
     "slide_type": "-"
    }
   },
   "outputs": [],
   "source": [
    "heute = \"Donnerstag\""
   ]
  },
  {
   "cell_type": "code",
   "execution_count": null,
   "metadata": {
    "collapsed": false,
    "deletable": true,
    "editable": true,
    "slideshow": {
     "slide_type": "-"
    }
   },
   "outputs": [],
   "source": [
    "print heute"
   ]
  },
  {
   "cell_type": "code",
   "execution_count": null,
   "metadata": {
    "collapsed": false,
    "deletable": true,
    "editable": true,
    "slideshow": {
     "slide_type": "-"
    }
   },
   "outputs": [],
   "source": [
    "heute = \"Freitag\"\n",
    "print(heute)"
   ]
  },
  {
   "cell_type": "markdown",
   "metadata": {
    "deletable": true,
    "editable": true,
    "slideshow": {
     "slide_type": "slide"
    }
   },
   "source": [
    "# 8.1 Variablennamen\n",
    "\n",
    "* müssen mit einem Buchstaben oder `_` beginnen\n",
    "* dürfen keine Leerzeichen oder Sonderzeichen (ausser `_`) enthalten\n",
    "\n",
    "## erlaubt\n",
    "\n",
    "* i, _i, cookies, xml2txt, Cookies_and_Jam"
   ]
  },
  {
   "cell_type": "markdown",
   "metadata": {
    "deletable": true,
    "editable": true,
    "slideshow": {
     "slide_type": "subslide"
    }
   },
   "source": [
    "# 8.2 nicht erlaubte Variablennamen"
   ]
  },
  {
   "cell_type": "code",
   "execution_count": null,
   "metadata": {
    "collapsed": false,
    "deletable": true,
    "editable": true,
    "slideshow": {
     "slide_type": "-"
    }
   },
   "outputs": [],
   "source": [
    "3erlei = 123"
   ]
  },
  {
   "cell_type": "code",
   "execution_count": null,
   "metadata": {
    "collapsed": false,
    "deletable": true,
    "editable": true,
    "slideshow": {
     "slide_type": "-"
    }
   },
   "outputs": [],
   "source": [
    "leer zeichen = 'Angela Merkel'"
   ]
  },
  {
   "cell_type": "markdown",
   "metadata": {
    "deletable": true,
    "editable": true
   },
   "source": [
    "# 9. Veränderbarkeit von Datentypen\n",
    "\n",
    "* Strings, Zahlen und Tupel sind _immutable_ (können nachträglich nicht verändert werden, nur vollständig ersetzt)\n",
    "* Listen und Dictionaries sind _mutable_"
   ]
  },
  {
   "cell_type": "code",
   "execution_count": null,
   "metadata": {
    "collapsed": false,
    "deletable": true,
    "editable": true
   },
   "outputs": [],
   "source": [
    "name = \"Ronny\" # immutable\n",
    "print(\"Mein Name beginnt mit\", name[0])\n",
    "name[0] = \"C\""
   ]
  },
  {
   "cell_type": "markdown",
   "metadata": {
    "deletable": true,
    "editable": true
   },
   "source": [
    "Wir können das erste Element des Strings _name_ zwar abfragen, aber nicht nachträglich ändern. Tupel verhalten sich genauso:"
   ]
  },
  {
   "cell_type": "code",
   "execution_count": null,
   "metadata": {
    "collapsed": false,
    "deletable": true,
    "editable": true
   },
   "outputs": [],
   "source": [
    "name = ('R', 'o', 'n', 'n', 'y') # immutable\n",
    "print()\"Mein Name beginnt mit\", name[0])\n",
    "name[0] = \"C\""
   ]
  },
  {
   "cell_type": "markdown",
   "metadata": {
    "deletable": true,
    "editable": true
   },
   "source": [
    "Im Gegensatz zu Strings und Tuoeln sind Listen _mutable_,\n",
    "wir können daher nicht nur das erste Element abfragen, sondern es auch nachträglich verändern:"
   ]
  },
  {
   "cell_type": "code",
   "execution_count": null,
   "metadata": {
    "collapsed": false,
    "deletable": true,
    "editable": true
   },
   "outputs": [],
   "source": [
    "name = ['R', 'o', 'n', 'n', 'y'] # mutable\n",
    "name[0] = \"C\"\n",
    "print(name)"
   ]
  },
  {
   "cell_type": "markdown",
   "metadata": {
    "deletable": true,
    "editable": true
   },
   "source": [
    "# 9.1 Variablenzuweisung und (un)veränderliche Datentypen\n",
    "\n",
    "## Beispiel 1: Strings (unveränderlich)"
   ]
  },
  {
   "cell_type": "code",
   "execution_count": null,
   "metadata": {
    "collapsed": false,
    "deletable": true,
    "editable": true
   },
   "outputs": [],
   "source": [
    "bradley_manning = \"89289\"\n",
    "chelsea_manning = bradley_manning # beide Variablen referenzieren jetzt den gleichen String\n",
    "print(\"Werte: \", bradley_manning, chelsea_manning)\n",
    "print(\"Speicheradresse: \", id(bradley_manning), id(chelsea_manning))"
   ]
  },
  {
   "cell_type": "markdown",
   "metadata": {
    "deletable": true,
    "editable": true
   },
   "source": [
    "Die Variable _bradley_manning_ bekommt einen neuen Wert zugewiesen (mit neuer Speicheradresse), _chelsea_manning_ behält hingegen den alten Wert:"
   ]
  },
  {
   "cell_type": "code",
   "execution_count": null,
   "metadata": {
    "collapsed": false,
    "deletable": true,
    "editable": true
   },
   "outputs": [],
   "source": [
    "bradley_manning = \"007\" # Der Variable wird ein neuer Wert zugewiesen.\n",
    "print(\"Werte: \", bradley_manning, chelsea_manning)\n",
    "print(\"Speicheradresse: \", id(bradley_manning), id(chelsea_manning))"
   ]
  },
  {
   "cell_type": "markdown",
   "metadata": {
    "deletable": true,
    "editable": true
   },
   "source": [
    "## Beispiel 2: Listen (veränderlich)"
   ]
  },
  {
   "cell_type": "code",
   "execution_count": null,
   "metadata": {
    "collapsed": false,
    "deletable": true,
    "editable": true
   },
   "outputs": [],
   "source": [
    "einkauf = ['brot', 'butter']\n",
    "zweikauf = einkauf\n",
    "print(einkauf, zweikauf)\n",
    "print(id(einkauf), id(zweikauf))"
   ]
  },
  {
   "cell_type": "markdown",
   "metadata": {
    "deletable": true,
    "editable": true
   },
   "source": [
    "Die Liste, die der Variable _einkauf_ zugewiesen wurde, wird durch Anhängung eines Elements verändert.\n",
    "Die Variablen _einkauf_ und _zweikauf_ referenzieren immernoch das gleiche (aber veränderte) Objekt:"
   ]
  },
  {
   "cell_type": "code",
   "execution_count": null,
   "metadata": {
    "collapsed": false,
    "deletable": true,
    "editable": true
   },
   "outputs": [],
   "source": [
    "einkauf.append('wasser')\n",
    "print(einkauf, zweikauf)\n",
    "print(id(einkauf), id(zweikauf))"
   ]
  },
  {
   "cell_type": "markdown",
   "metadata": {
    "deletable": true,
    "editable": true
   },
   "source": [
    "# 10. Slices\n",
    "\n",
    "* Auswahl von Teilen einer Liste / eines Tupels / eines Strings ...\n",
    "* Zähler beginnt bei 0"
   ]
  },
  {
   "cell_type": "code",
   "execution_count": null,
   "metadata": {
    "collapsed": false,
    "deletable": true,
    "editable": true
   },
   "outputs": [],
   "source": [
    "zehner = [0, 10, 20, 30, 40, 50, 60, 70, 80, 90, 100]"
   ]
  },
  {
   "cell_type": "code",
   "execution_count": null,
   "metadata": {
    "collapsed": false,
    "deletable": true,
    "editable": true
   },
   "outputs": [],
   "source": [
    "zehner[3:] # vom vierten Element bis einschliesslich des letzten Elements"
   ]
  },
  {
   "cell_type": "code",
   "execution_count": null,
   "metadata": {
    "collapsed": false,
    "deletable": true,
    "editable": true
   },
   "outputs": [],
   "source": [
    "print(zehner [0:5]) # vom ersten Element bis einschliesslich des fünften Elements\n",
    "print(zehner[:5]) # Kurzschreibweise"
   ]
  },
  {
   "cell_type": "code",
   "execution_count": null,
   "metadata": {
    "collapsed": false,
    "deletable": true,
    "editable": true
   },
   "outputs": [],
   "source": [
    "zehner[2:5] # vom 3. bis einschliesslich des 5. Elements"
   ]
  },
  {
   "cell_type": "code",
   "execution_count": null,
   "metadata": {
    "collapsed": false,
    "deletable": true,
    "editable": true
   },
   "outputs": [],
   "source": [
    "zehner[4:-1] # vom 5. Element bis einschliesslich des vorletzten Elements"
   ]
  },
  {
   "cell_type": "markdown",
   "metadata": {
    "deletable": true,
    "editable": true
   },
   "source": [
    "# 11. Intervalle (Ranges)\n",
    "\n",
    "Die Funktion `range(n)` gibt eine Liste der Ganzzahlen 0 bis n-1 zurück:"
   ]
  },
  {
   "cell_type": "code",
   "execution_count": null,
   "metadata": {
    "collapsed": false,
    "deletable": true,
    "editable": true
   },
   "outputs": [],
   "source": [
    "range(10)"
   ]
  },
  {
   "cell_type": "markdown",
   "metadata": {
    "deletable": true,
    "editable": true
   },
   "source": [
    "Die Funktion `range(i, n)` gibt eine Liste der Ganzzahlen i bis n-1 zurück:"
   ]
  },
  {
   "cell_type": "code",
   "execution_count": null,
   "metadata": {
    "collapsed": false,
    "deletable": true,
    "editable": true
   },
   "outputs": [],
   "source": [
    "list(range(1,10))"
   ]
  },
  {
   "cell_type": "markdown",
   "metadata": {
    "deletable": true,
    "editable": true
   },
   "source": [
    "Die Funktion `range(i, n, increment)` gibt eine Liste aller Ganzzahlen i, i+increment, i+increment*2 ... < n"
   ]
  },
  {
   "cell_type": "code",
   "execution_count": null,
   "metadata": {
    "collapsed": false,
    "deletable": true,
    "editable": true
   },
   "outputs": [],
   "source": [
    "print(list(range(0, 101, 10)) # von 1 bis einschliesslich 100 mit Schrittweite 10"
   ]
  },
  {
   "cell_type": "markdown",
   "metadata": {
    "deletable": true,
    "editable": true,
    "slideshow": {
     "slide_type": "slide"
    }
   },
   "source": [
    "# 12. Operatoren\n",
    "\n",
    "* werden verwendet, um Ausdrücke zu verknüpfen\n",
    "* viele Operatoren sind _überladen_, d.h. sie sind auf verschiedene Typen anwendbar"
   ]
  },
  {
   "cell_type": "markdown",
   "metadata": {
    "deletable": true,
    "editable": true,
    "slideshow": {
     "slide_type": "subslide"
    }
   },
   "source": [
    "# 12.1 +: Addition vs. Konkatenation"
   ]
  },
  {
   "cell_type": "code",
   "execution_count": null,
   "metadata": {
    "collapsed": false,
    "deletable": true,
    "editable": true,
    "slideshow": {
     "slide_type": "fragment"
    }
   },
   "outputs": [],
   "source": [
    "2 + 3"
   ]
  },
  {
   "cell_type": "code",
   "execution_count": null,
   "metadata": {
    "collapsed": false,
    "deletable": true,
    "editable": true,
    "slideshow": {
     "slide_type": "fragment"
    }
   },
   "outputs": [],
   "source": [
    "'2' + '3'"
   ]
  },
  {
   "cell_type": "markdown",
   "metadata": {
    "deletable": true,
    "editable": true,
    "slideshow": {
     "slide_type": "subslide"
    }
   },
   "source": [
    "# 12.2 *: Multiplikation"
   ]
  },
  {
   "cell_type": "code",
   "execution_count": null,
   "metadata": {
    "collapsed": false,
    "deletable": true,
    "editable": true,
    "slideshow": {
     "slide_type": "fragment"
    }
   },
   "outputs": [],
   "source": [
    "2 * 6"
   ]
  },
  {
   "cell_type": "code",
   "execution_count": null,
   "metadata": {
    "collapsed": false,
    "deletable": true,
    "editable": true,
    "slideshow": {
     "slide_type": "fragment"
    }
   },
   "outputs": [],
   "source": [
    "'2' * 6"
   ]
  },
  {
   "cell_type": "code",
   "execution_count": null,
   "metadata": {
    "collapsed": false,
    "deletable": true,
    "editable": true,
    "slideshow": {
     "slide_type": "fragment"
    }
   },
   "outputs": [],
   "source": [
    "'2' * '6' # Der Operator * kann nicht auf zwei Strings angewendet werden"
   ]
  },
  {
   "cell_type": "markdown",
   "metadata": {
    "deletable": true,
    "editable": true,
    "slideshow": {
     "slide_type": "subslide"
    }
   },
   "source": [
    "# 12.3 <, <=, >, >=: kleiner(gleich), grösser(gleich)"
   ]
  },
  {
   "cell_type": "code",
   "execution_count": null,
   "metadata": {
    "collapsed": false,
    "deletable": true,
    "editable": true,
    "slideshow": {
     "slide_type": "fragment"
    }
   },
   "outputs": [],
   "source": [
    "4 < 2"
   ]
  },
  {
   "cell_type": "code",
   "execution_count": null,
   "metadata": {
    "collapsed": false,
    "deletable": true,
    "editable": true
   },
   "outputs": [],
   "source": [
    "'elefant' < 'mouse' # lexikographischer Vergleich"
   ]
  },
  {
   "cell_type": "code",
   "execution_count": null,
   "metadata": {
    "collapsed": false,
    "deletable": true,
    "editable": true
   },
   "outputs": [],
   "source": [
    "2<=2"
   ]
  },
  {
   "cell_type": "markdown",
   "metadata": {
    "deletable": true,
    "editable": true,
    "slideshow": {
     "slide_type": "subslide"
    }
   },
   "source": [
    "# 12.4 ==, !=: Gleichheit, Ungleichheit\n",
    "\n",
    "* Gleichheitsoperator ==: **Gleichheit** bezieht sich hier auf die **Werte** (Bsp.: die Variablen _a_ und _b_ haben den gleichen Wert)\n",
    "* nicht verwechseln mit dem Identitätsoperator _is_: überprüft, ob die beiden Variablen das gleiche Objekt referenzieren"
   ]
  },
  {
   "cell_type": "code",
   "execution_count": null,
   "metadata": {
    "collapsed": false,
    "deletable": true,
    "editable": true
   },
   "outputs": [],
   "source": [
    "a = 23\n",
    "b = 42\n",
    "a == b"
   ]
  },
  {
   "cell_type": "code",
   "execution_count": null,
   "metadata": {
    "collapsed": false,
    "deletable": true,
    "editable": true
   },
   "outputs": [],
   "source": [
    "a != b"
   ]
  },
  {
   "cell_type": "code",
   "execution_count": null,
   "metadata": {
    "collapsed": false,
    "deletable": true,
    "editable": true
   },
   "outputs": [],
   "source": [
    "'aaa' == 'aaa'"
   ]
  },
  {
   "cell_type": "markdown",
   "metadata": {
    "deletable": true,
    "editable": true,
    "slideshow": {
     "slide_type": "subslide"
    }
   },
   "source": [
    "# 12.5 X and Y\n",
    "\n",
    "* wahr, wenn beide Bedingungen erfüllt sind"
   ]
  },
  {
   "cell_type": "code",
   "execution_count": null,
   "metadata": {
    "collapsed": false,
    "deletable": true,
    "editable": true
   },
   "outputs": [],
   "source": [
    "1 < 2 and 'b' > 'a'"
   ]
  },
  {
   "cell_type": "markdown",
   "metadata": {
    "deletable": true,
    "editable": true,
    "slideshow": {
     "slide_type": "subslide"
    }
   },
   "source": [
    "# 12.6 X or Y: inklusives oder\n",
    "\n",
    "* wahr, wenn X oder Y oder beide wahr sind"
   ]
  },
  {
   "cell_type": "code",
   "execution_count": null,
   "metadata": {
    "collapsed": false,
    "deletable": true,
    "editable": true
   },
   "outputs": [],
   "source": [
    "1 < 2 or 1 > 2"
   ]
  },
  {
   "cell_type": "markdown",
   "metadata": {
    "deletable": true,
    "editable": true
   },
   "source": [
    "# 12.7 X in Y\n",
    "\n",
    "* wahr, wenn X in Y enthalten ist\n",
    "* Y ist ein Container/Iterable (z.B. Menge, Liste oder Tupel)"
   ]
  },
  {
   "cell_type": "code",
   "execution_count": null,
   "metadata": {
    "collapsed": false,
    "deletable": true,
    "editable": true
   },
   "outputs": [],
   "source": [
    "'apple' in ['apple', 'banana', 'cherry']"
   ]
  },
  {
   "cell_type": "markdown",
   "metadata": {
    "deletable": true,
    "editable": true
   },
   "source": [
    "# 12.8 not X\n",
    "\n",
    "* wahr, wenn X nicht wahr ist"
   ]
  },
  {
   "cell_type": "code",
   "execution_count": null,
   "metadata": {
    "collapsed": false,
    "deletable": true,
    "editable": true
   },
   "outputs": [],
   "source": [
    "'pizza' not in ['apple', 'banana', 'cherry']"
   ]
  },
  {
   "cell_type": "markdown",
   "metadata": {
    "deletable": true,
    "editable": true,
    "slideshow": {
     "slide_type": "skip"
    }
   },
   "source": [
    "# 13 Typisierung\n",
    "\n",
    "* C++: statisch typisiert (Typ einer Variable muss bei Instanziierung bekannt sein)\n",
    "* Python: dynamisch typisiert (Typ der Variable wird erst während des Programmablaufs bestimmt)"
   ]
  },
  {
   "cell_type": "code",
   "execution_count": null,
   "metadata": {
    "collapsed": false,
    "deletable": true,
    "editable": true
   },
   "outputs": [],
   "source": [
    "print(type(1), type(1.0), type(\"1\"), type([1]))"
   ]
  },
  {
   "cell_type": "code",
   "execution_count": null,
   "metadata": {
    "collapsed": false,
    "deletable": true,
    "editable": true
   },
   "outputs": [],
   "source": [
    "print(isinstance(1, str)) # gibt Wahrheitswert zurück"
   ]
  },
  {
   "cell_type": "markdown",
   "metadata": {
    "deletable": true,
    "editable": true
   },
   "source": [
    "**Vorsicht**: Interpretation kann auch \"schiefgehen\"!\n",
    "\n",
    "Python interpretiert Ganzzahlen mit führender Null als Zahlen im Oktalsystem und rechnet diese automatisch in das Dezimalsystem um:"
   ]
  },
  {
   "cell_type": "code",
   "execution_count": null,
   "metadata": {
    "collapsed": false,
    "deletable": true,
    "editable": true
   },
   "outputs": [],
   "source": [
    "print(033)"
   ]
  },
  {
   "cell_type": "code",
   "execution_count": null,
   "metadata": {
    "collapsed": false,
    "deletable": true,
    "editable": true
   },
   "outputs": [],
   "source": [
    "type(033)"
   ]
  },
  {
   "cell_type": "code",
   "execution_count": null,
   "metadata": {
    "collapsed": false,
    "deletable": true,
    "editable": true
   },
   "outputs": [],
   "source": [
    "oct(27) # Umrechnung der Ganzzahl 27 (Dezimalsystem) in das Oktalsystem"
   ]
  },
  {
   "cell_type": "markdown",
   "metadata": {
    "deletable": true,
    "editable": true
   },
   "source": [
    "## 13.1 Datentypen konvertieren (type cast)"
   ]
  },
  {
   "cell_type": "code",
   "execution_count": null,
   "metadata": {
    "collapsed": false,
    "deletable": true,
    "editable": true
   },
   "outputs": [],
   "source": [
    "print(int(3.14)) ## Umwandlung float --> int\n",
    "print(type(int(\"2\")), type(str(2))) ## Umwandlung str --> int sowie int --> str"
   ]
  },
  {
   "cell_type": "markdown",
   "metadata": {
    "deletable": true,
    "editable": true
   },
   "source": [
    "# 14. Kontrollstrukturen\n",
    "\n",
    "## 14.1 if-then-else"
   ]
  },
  {
   "cell_type": "code",
   "execution_count": null,
   "metadata": {
    "collapsed": false,
    "deletable": true,
    "editable": true
   },
   "outputs": [],
   "source": [
    "kontostand = -100\n",
    "\n",
    "if kontostand > 0:\n",
    "    print(\"Auszahlung läuft\")\n",
    "else:\n",
    "    print(\"Geht nicht, weil iss nicht!\")"
   ]
  },
  {
   "cell_type": "markdown",
   "metadata": {
    "deletable": true,
    "editable": true
   },
   "source": [
    "## 14.2 if then, else-if then, else"
   ]
  },
  {
   "cell_type": "code",
   "execution_count": null,
   "metadata": {
    "collapsed": false,
    "deletable": true,
    "editable": true
   },
   "outputs": [],
   "source": [
    "fruits = ['apple', 'banana', 'cherry']\n",
    "veggies = ['avocado', 'tomato', 'beetroot']\n",
    "\n",
    "food_item = 'pizza'\n",
    "\n",
    "if food_item in fruits:\n",
    "    print(\"It's sweet!\")\n",
    "elif food_item in veggies:\n",
    "    print(\"It's healty!\")\n",
    "else:\n",
    "    print(\"Oh noes!\")"
   ]
  },
  {
   "cell_type": "markdown",
   "metadata": {
    "deletable": true,
    "editable": true
   },
   "source": [
    "## 14.3 for (ohne Zählervariable)"
   ]
  },
  {
   "cell_type": "code",
   "execution_count": null,
   "metadata": {
    "collapsed": false,
    "deletable": true,
    "editable": true
   },
   "outputs": [],
   "source": [
    "for dingsbums in fruits:\n",
    "    print(dingsbums)"
   ]
  },
  {
   "cell_type": "markdown",
   "metadata": {
    "deletable": true,
    "editable": true
   },
   "source": [
    "## 14.4 for (mit Zähler)"
   ]
  },
  {
   "cell_type": "code",
   "execution_count": null,
   "metadata": {
    "collapsed": false,
    "deletable": true,
    "editable": true
   },
   "outputs": [],
   "source": [
    "for zaehler, gemuese in enumerate(veggies):\n",
    "    print(\"veggie number\", zaehler, \"is a\", gemuese)"
   ]
  },
  {
   "cell_type": "markdown",
   "metadata": {
    "deletable": true,
    "editable": true
   },
   "source": [
    "Wie funktioniert dieser Zähler?\n",
    "\n",
    "Wir wenden die Funktion `enumerate()` auf ein iterierbares (\"durchzählbares\") Objekt an, also z.B. Listen, Tupel, Strings oder Dictionaries. Als Ergebnis bekommen wir eine Liste von 2-Tupeln (bestehend aus dem Index des Elements und dem Element selbst).\n",
    "\n",
    "gemuesezaehler = enumerate(veggies)\n",
    "\n",
    "Intern sieht der \"Gemüsezähler\" jetzt so aus:\n",
    "[(0, 'avocado'), (1, 'tomato'), (2, 'beetroot')]\n",
    "\n",
    "**Irrelevantes Detail für Fortgeschrittene**: aus Effizienzgründen liefert enumerate keine Liste zurück, sondern ein Objekt mit der Funktion `next()`, welches uns das jeweils nächste 2-Tupel der Gemüsezählerliste zurückgibt:"
   ]
  },
  {
   "cell_type": "code",
   "execution_count": null,
   "metadata": {
    "collapsed": false,
    "deletable": true,
    "editable": true
   },
   "outputs": [],
   "source": [
    "gemuesezaehler = enumerate(veggies)\n",
    "print(gemuesezaehler.next())\n",
    "print(gemuesezaehler.next())\n",
    "print(gemuesezaehler.next())\n",
    "print(gemuesezaehler.next())"
   ]
  },
  {
   "cell_type": "markdown",
   "metadata": {
    "deletable": true,
    "editable": true
   },
   "source": [
    "Die **for-Schleife** braucht also gar nicht zu wissen, wieviele Elemente unsere Liste enthält. `enumerate` liefert sowohl den Zähler des aktuellen Schleifendurchlaufs als auch die Information, wann die Schleife abgebrochen werden kann (`StopIteration`)."
   ]
  },
  {
   "cell_type": "markdown",
   "metadata": {
    "deletable": true,
    "editable": true
   },
   "source": [
    "## 14.5 for (nur Zähler)"
   ]
  },
  {
   "cell_type": "code",
   "execution_count": null,
   "metadata": {
    "collapsed": false,
    "deletable": true,
    "editable": true
   },
   "outputs": [],
   "source": [
    "for i in range(1,10):\n",
    "    print('a' * i)"
   ]
  },
  {
   "cell_type": "markdown",
   "metadata": {
    "deletable": true,
    "editable": true
   },
   "source": [
    "# 15. String-Formatierung\n",
    "\n",
    "* Werte (von Variablen) in vorhandene Strings einfügen"
   ]
  },
  {
   "cell_type": "code",
   "execution_count": null,
   "metadata": {
    "collapsed": false,
    "deletable": true,
    "editable": true
   },
   "outputs": [],
   "source": [
    "name = \"Horst\"\n",
    "print(\"Hallo {}! Wie geht's?\".format(name))"
   ]
  },
  {
   "cell_type": "markdown",
   "metadata": {
    "deletable": true,
    "editable": true
   },
   "source": [
    "Der Wert der Variable `name` wurde in den String an die Stelle `{}` eingefügt. \n",
    "Wenn man mehrere Werte in einen String einfügen möchte, muss man die `{}` numerieren:"
   ]
  },
  {
   "cell_type": "code",
   "execution_count": null,
   "metadata": {
    "collapsed": false,
    "deletable": true,
    "editable": true
   },
   "outputs": [],
   "source": [
    "name1 = \"Horst\"\n",
    "name2 = \"Ulla\"\n",
    "print(\"Hallo {0}! Kennst du {1} schon?\".format(name1, name2))"
   ]
  },
  {
   "cell_type": "markdown",
   "metadata": {
    "deletable": true,
    "editable": true
   },
   "source": [
    "Die `format()`-Methode kann man auch direkt mit Werten füttern, \n",
    "es müssen auch keine Strings sein (solange sie sich in einen String umwandeln lassen):"
   ]
  },
  {
   "cell_type": "code",
   "execution_count": null,
   "metadata": {
    "collapsed": false,
    "deletable": true,
    "editable": true
   },
   "outputs": [],
   "source": [
    "print(\"pi ist {0} und nicht {1} oder gar {2}!\".format(3.141592653589793, 23, 'Kuchen'))"
   ]
  },
  {
   "cell_type": "markdown",
   "metadata": {
    "deletable": true,
    "editable": true
   },
   "source": [
    "# 16. Funktionen\n",
    "\n",
    "* Blöcke von häufig verwendeten Anweisungen zusammenfassen\n",
    "* können beliebig viele Parameter haben\n",
    "\n",
    "## 16.1 Funktion mit einem Parameter"
   ]
  },
  {
   "cell_type": "code",
   "execution_count": null,
   "metadata": {
    "collapsed": false,
    "deletable": true,
    "editable": true
   },
   "outputs": [],
   "source": [
    "def greeting(name):\n",
    "    return \"Hallo, {}. Wie geht's?\".format(name)"
   ]
  },
  {
   "cell_type": "code",
   "execution_count": null,
   "metadata": {
    "collapsed": false,
    "deletable": true,
    "editable": true
   },
   "outputs": [],
   "source": [
    "print(greeting('Horst'))"
   ]
  },
  {
   "cell_type": "markdown",
   "metadata": {
    "deletable": true,
    "editable": true
   },
   "source": [
    "Welchen Typ der Parameter `name` hat ist der Funktion prinzipiell egal.\n",
    "\n",
    "**Irrelevantes Detail für Fortgeschrittene**: die `format()`-Methode kann jedes Objekt in einen String einfügen, das eine `__str__()`-Methode hat."
   ]
  },
  {
   "cell_type": "code",
   "execution_count": null,
   "metadata": {
    "collapsed": false,
    "deletable": true,
    "editable": true
   },
   "outputs": [],
   "source": [
    "print(greeting(12))"
   ]
  },
  {
   "cell_type": "markdown",
   "metadata": {
    "deletable": true,
    "editable": true
   },
   "source": [
    "## 16.2 Funktion mit zwei Parametern"
   ]
  },
  {
   "cell_type": "code",
   "execution_count": null,
   "metadata": {
    "collapsed": false,
    "deletable": true,
    "editable": true
   },
   "outputs": [],
   "source": [
    "def greeting2(name, formality):\n",
    "    hello = \"Hallo, %s!\" % name\n",
    "    if formality == 'formell':\n",
    "        return hello + \" Wie geht es Ihnen?\"\n",
    "    elif formality == 'informell':\n",
    "        return hello + \" Wie geht es dir?\"\n",
    "    else:\n",
    "        return hello"
   ]
  },
  {
   "cell_type": "code",
   "execution_count": null,
   "metadata": {
    "collapsed": false,
    "deletable": true,
    "editable": true
   },
   "outputs": [],
   "source": [
    "print(greeting2('Ulla', 'formell')) # if ..."
   ]
  },
  {
   "cell_type": "code",
   "execution_count": null,
   "metadata": {
    "collapsed": false,
    "deletable": true,
    "editable": true
   },
   "outputs": [],
   "source": [
    "print(greeting2('Ulla', 'informell')) # else if ..."
   ]
  },
  {
   "cell_type": "code",
   "execution_count": null,
   "metadata": {
    "collapsed": false,
    "deletable": true,
    "editable": true
   },
   "outputs": [],
   "source": [
    "print(greeting2('Ulla', 'ksdlfksdlfskdlfsd')) # else"
   ]
  },
  {
   "cell_type": "code",
   "execution_count": null,
   "metadata": {
    "collapsed": false,
    "deletable": true,
    "editable": true
   },
   "outputs": [],
   "source": [
    "print(greeting2('Ulla')) # ein Parameter zu wenig übergeben"
   ]
  },
  {
   "cell_type": "markdown",
   "metadata": {
    "deletable": true,
    "editable": true
   },
   "source": [
    "## 16.3 Funktion mit obligatorischem und optionalem Parameter\n",
    "\n",
    "* es müssen immer zuerst alle obligatorischen Parameter definiert werden"
   ]
  },
  {
   "cell_type": "code",
   "execution_count": null,
   "metadata": {
    "collapsed": false,
    "deletable": true,
    "editable": true
   },
   "outputs": [],
   "source": [
    "def greeting3(name, formality=None):\n",
    "    hello = \"Hallo, %s!\" % name\n",
    "    if formality is None: # geht auch: if formality == None\n",
    "        return hello\n",
    "    elif formality == 'formell':\n",
    "        return hello + \" Wie geht es Ihnen?\"\n",
    "    else:\n",
    "        return hello + \" Wie geht es dir?\""
   ]
  },
  {
   "cell_type": "code",
   "execution_count": null,
   "metadata": {
    "collapsed": false,
    "deletable": true,
    "editable": true
   },
   "outputs": [],
   "source": [
    "print(greeting3('Maik')) # ohne optionalen Parameter"
   ]
  },
  {
   "cell_type": "code",
   "execution_count": null,
   "metadata": {
    "collapsed": false,
    "deletable": true,
    "editable": true
   },
   "outputs": [],
   "source": [
    "print(greeting3('Maik', 'formell')) # else if ..."
   ]
  },
  {
   "cell_type": "code",
   "execution_count": null,
   "metadata": {
    "collapsed": false,
    "deletable": true,
    "editable": true
   },
   "outputs": [],
   "source": [
    "print(greeting3('Maik', 'informell')) # else ..."
   ]
  },
  {
   "cell_type": "code",
   "execution_count": null,
   "metadata": {
    "collapsed": false,
    "deletable": true,
    "editable": true
   },
   "outputs": [],
   "source": [
    "print(greeting3('Maik', 'Knäckebrot')) # ebenfalls else ..."
   ]
  },
  {
   "cell_type": "markdown",
   "metadata": {
    "deletable": true,
    "editable": true
   },
   "source": [
    "# 16.4 Funktionen ohne Rückgabewert\n",
    "\n",
    "Funktionen ohne `return`-Anweisung haben immer den Rückgabewert `None`."
   ]
  },
  {
   "cell_type": "code",
   "execution_count": null,
   "metadata": {
    "collapsed": false,
    "deletable": true,
    "editable": true
   },
   "outputs": [],
   "source": [
    "def plus2(zahl):\n",
    "    print(zahl+2)\n",
    "    "
   ]
  },
  {
   "cell_type": "markdown",
   "metadata": {
    "deletable": true,
    "editable": true
   },
   "source": [
    "Die Funktion `plus2(zahl)` addiert 2 zur gegebene Zahl und gibt das Ergebnis nur auf dem Bildschirm aus."
   ]
  },
  {
   "cell_type": "code",
   "execution_count": null,
   "metadata": {
    "collapsed": false,
    "deletable": true,
    "editable": true
   },
   "outputs": [],
   "source": [
    "plus2(10) "
   ]
  },
  {
   "cell_type": "markdown",
   "metadata": {
    "deletable": true,
    "editable": true
   },
   "source": [
    "Beim Versuch das Ergebnis der Funktion `plus2()` in einer Variable zu speichern, kommt es zu unerwarteten Effekten:"
   ]
  },
  {
   "cell_type": "code",
   "execution_count": null,
   "metadata": {
    "collapsed": false,
    "deletable": true,
    "editable": true
   },
   "outputs": [],
   "source": [
    "ergebnis = plus2(10)"
   ]
  },
  {
   "cell_type": "code",
   "execution_count": null,
   "metadata": {
    "collapsed": false,
    "deletable": true,
    "editable": true
   },
   "outputs": [],
   "source": [
    "print(ergebnis)"
   ]
  },
  {
   "cell_type": "code",
   "execution_count": null,
   "metadata": {
    "collapsed": false,
    "deletable": true,
    "editable": true
   },
   "outputs": [],
   "source": [
    "# versuche:\n",
    "# print ergebnis + -100"
   ]
  },
  {
   "cell_type": "markdown",
   "metadata": {
    "deletable": true,
    "editable": true
   },
   "source": [
    "# 17 Klassen\n",
    "\n",
    "* verbinden Daten und die darauf anwendbaren Funktionen zu einem Objekt\n",
    "* Funktionen, die in Klassen definiert sind heißen Methoden\n",
    "* Methoden haben als ersten Parameter immer **self**\n",
    "* **self** bezeichnet das Objekt / die Instanz der Klasse, mit dem wir gerade arbeiten"
   ]
  },
  {
   "cell_type": "code",
   "execution_count": null,
   "metadata": {
    "collapsed": false,
    "deletable": true,
    "editable": true
   },
   "outputs": [],
   "source": [
    "class Gruessaugust:\n",
    "    \"\"\"\n",
    "    Ein Grüßaugust hat nur eine Aufgabe: Grüßen.\n",
    "    \n",
    "    Jede Instanz der Klasse Gruessaugust hat genau eine Methode:\n",
    "    print_greeting(name).\n",
    "    \"\"\"\n",
    "    def print_greeting(self, name):\n",
    "        print(\"Hallo {}\".format(name))"
   ]
  },
  {
   "cell_type": "code",
   "execution_count": null,
   "metadata": {
    "collapsed": false,
    "deletable": true,
    "editable": true
   },
   "outputs": [],
   "source": [
    "wulff = Gruessaugust() # wulff ist eine Instanz der Klasse Gruessaugust"
   ]
  },
  {
   "cell_type": "code",
   "execution_count": null,
   "metadata": {
    "collapsed": false,
    "deletable": true,
    "editable": true
   },
   "outputs": [],
   "source": [
    "wulff.print_greeting(\"Angie\") # wulff kann alle Methoden nutzen, die für die Klasse Gruessaugust definiert sind"
   ]
  },
  {
   "cell_type": "code",
   "execution_count": null,
   "metadata": {
    "collapsed": false,
    "deletable": true,
    "editable": true
   },
   "outputs": [],
   "source": [
    "# tippe den Befehl unten ein, um eine Fehlermdelung zu erhalten:\n",
    "# print_greeting(\"Angie\") # die Methoden einer Klasse können nur auf einer Instanz derselben aufgerufen werden"
   ]
  },
  {
   "cell_type": "markdown",
   "metadata": {
    "deletable": true,
    "editable": true
   },
   "source": [
    "# 18 Instanzvariablen\n",
    "\n",
    "* Variablen, die der Instanz (**self**) einer Klasse zugeordet sind (nicht der Klasse selber)"
   ]
  },
  {
   "cell_type": "code",
   "execution_count": null,
   "metadata": {
    "collapsed": false,
    "deletable": true,
    "editable": true
   },
   "outputs": [],
   "source": [
    "class Gruesser:\n",
    "    def __init__(self, gruesser_name):\n",
    "        self.name = gruesser_name\n",
    "    def print_greeting(self, gast):\n",
    "        print(\"Der Grüssaugust {0} begrüßt den Gast {1}\".format(self.name, gast))"
   ]
  },
  {
   "cell_type": "code",
   "execution_count": null,
   "metadata": {
    "collapsed": false,
    "deletable": true,
    "editable": true
   },
   "outputs": [],
   "source": [
    "wulff = Gruesser(\"Christian\")"
   ]
  },
  {
   "cell_type": "code",
   "execution_count": null,
   "metadata": {
    "collapsed": false,
    "deletable": true,
    "editable": true
   },
   "outputs": [],
   "source": [
    "wulff.name"
   ]
  },
  {
   "cell_type": "code",
   "execution_count": null,
   "metadata": {
    "collapsed": false,
    "deletable": true,
    "editable": true
   },
   "outputs": [],
   "source": [
    "wulff.print_greeting(\"Putin\")"
   ]
  },
  {
   "cell_type": "code",
   "execution_count": null,
   "metadata": {
    "collapsed": false,
    "deletable": true,
    "editable": true
   },
   "outputs": [],
   "source": [
    "koehler = Gruesser('Horst')"
   ]
  },
  {
   "cell_type": "code",
   "execution_count": null,
   "metadata": {
    "collapsed": false,
    "deletable": true,
    "editable": true
   },
   "outputs": [],
   "source": [
    "koehler.name"
   ]
  },
  {
   "cell_type": "code",
   "execution_count": null,
   "metadata": {
    "collapsed": false,
    "deletable": true,
    "editable": true
   },
   "outputs": [],
   "source": [
    "koehler.print_greeting(\"Juncker\")"
   ]
  },
  {
   "cell_type": "markdown",
   "metadata": {
    "deletable": true,
    "editable": true
   },
   "source": [
    "# 19 Numpy: Numerical Python\n",
    "\n",
    "## 19.1 arrays"
   ]
  },
  {
   "cell_type": "code",
   "execution_count": null,
   "metadata": {
    "collapsed": false,
    "deletable": true,
    "editable": true
   },
   "outputs": [],
   "source": [
    "array_1d = np.array([6, 7])\n",
    "print(array_1d)\n",
    "print(array_1d.shape)"
   ]
  },
  {
   "cell_type": "code",
   "execution_count": null,
   "metadata": {
    "collapsed": false,
    "deletable": true,
    "editable": true
   },
   "outputs": [],
   "source": [
    "array_2d = np.array([[1, 2], [3, 4]])\n",
    "print(array_2d)\n",
    "print(array_2d.shape)"
   ]
  },
  {
   "cell_type": "markdown",
   "metadata": {
    "deletable": true,
    "editable": true
   },
   "source": [
    "## 19.2 matrix multiplication"
   ]
  },
  {
   "cell_type": "code",
   "execution_count": null,
   "metadata": {
    "collapsed": false,
    "deletable": true,
    "editable": true
   },
   "outputs": [],
   "source": [
    "A = np.array([[3, 4], [5, 6]])\n",
    "x = np.array((1, 2))\n",
    "\n",
    "result = A.dot(x)\n",
    "print(result)"
   ]
  },
  {
   "cell_type": "markdown",
   "metadata": {
    "deletable": true,
    "editable": true
   },
   "source": [
    "# Anwendung 1: "
   ]
  },
  {
   "cell_type": "code",
   "execution_count": null,
   "metadata": {
    "collapsed": false,
    "deletable": true,
    "editable": true
   },
   "outputs": [],
   "source": [
    "from scipy.interpolate import griddata\n",
    "\n",
    "# generate random points\n",
    "np.random.seed(5)\n",
    "xy = np.random.randint(-50, 50, (10, 10))\n",
    "x = np.linspace(-50, 50, 100)\n",
    "y = np.linspace(-50, 50, 100)\n",
    "\n",
    "xx, yy = np.meshgrid(x, y)\n",
    "r = np.sqrt(xx ** 2 + yy **2)\n",
    "color = np.sin(r / 10)\n",
    "\n",
    "# sample the data space\n",
    "number_of_data_points = 50\n",
    "indices = np.random.randint(0, 100, size=(number_of_data_points, 2))\n",
    "indices = tuple(zip(*indices))\n",
    "\n",
    "xs = xx[indices]\n",
    "ys = yy[indices]\n",
    "ps = np.vstack((xs, ys)).T\n",
    "cs = color[indices]\n",
    "\n",
    "# interpolate\n",
    "grid_cubic = griddata(ps, cs, (xx, yy), method='cubic')\n",
    "grid_nearest = griddata(ps, cs, (xx, yy), method='nearest')\n",
    "\n",
    "\n",
    "# plot\n",
    "fig, axes = plt.subplots(3, 1, figsize=(10, 20))\n",
    "ax = axes[0]\n",
    "hc = ax.contourf(x, y, color)\n",
    "ax.scatter(xs, ys, color='k', s=30)\n",
    "fig.colorbar(hc, ax=axes[0])\n",
    "ax.set_title('')\n",
    "\n",
    "ax = axes[1]\n",
    "im = ax.imshow(grid_nearest, extent=[-50, 50, -50, 50])\n",
    "fig.colorbar(im, ax=axes[1])\n",
    "ax = axes[2]\n",
    "ax.imshow(grid_cubic.T, extent=[-50, 50, -50, 50])\n",
    "fig.colorbar(im, ax=axes[2])\n",
    "\n",
    "for ax in axes.flatten():\n",
    "    ax.set_aspect('equal')\n",
    "\n",
    "fig.tight_layout()\n",
    "# fig.savefig('polynom.png')"
   ]
  }
 ],
 "metadata": {
  "kernelspec": {
   "display_name": "Python 3",
   "language": "python",
   "name": "python3"
  },
  "language_info": {
   "codemirror_mode": {
    "name": "ipython",
    "version": 3
   },
   "file_extension": ".py",
   "mimetype": "text/x-python",
   "name": "python",
   "nbconvert_exporter": "python",
   "pygments_lexer": "ipython3",
   "version": "3.4.2"
  }
 },
 "nbformat": 4,
 "nbformat_minor": 0
}
