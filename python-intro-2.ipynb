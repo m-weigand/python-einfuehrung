{
 "metadata": {
  "name": "",
  "signature": "sha256:85cf2a56d6d483b641b3a41894c0d0c13f339445e71d91552564aeafa7edb426"
 },
 "nbformat": 3,
 "nbformat_minor": 0,
 "worksheets": [
  {
   "cells": [
    {
     "cell_type": "markdown",
     "metadata": {},
     "source": [
      "# Teil 2\n",
      "\n",
      "Kurs basierend auf: https://github.com/arne-cl/python-einfuehrung\n",
      "\n",
      "Aktuelle Version: https://github.com/m-weigand/python-einfuehrung\n",
      "\n",
      "# Python-Einf\u00fchrung (21.5.2015, 16:15 - 19:00, 9.7.2015, 16:15 - 19:00)\n",
      "\n",
      "* wir verwenden Python 2.7 (aktuell ist 3.3, aber Unterst\u00fctzung f\u00fcr einige wissenschaftliche Packete ist noch nicht gegeben)\n",
      "* Oberfl\u00e4che im Browser: IPython Notebook https://www.ipython.org\n",
      "* Programmieren lernt man nur durch Programmieren!\n",
      "* Nachvollziehen ist gut, Nachprogrammieren besser!\n",
      "* Benutzt die Hilfe (im Men\u00fc von IPython)\n",
      "* http://stackoverflow.com ist eine sehr gute Quelle f\u00fcr praktische Tips \n",
      "\n",
      "## F\u00fcr den Heimgebrauch:\n",
      "\n",
      "* Minimalanforderung: Python-Interpreter und einen Text-Editor\n",
      "- wird bei Linux schon mitgeliefert, ansonsten: https://www.python.org/downloads/\n",
      "* F\u00fcr Windows: Komplettpacket: https://code.google.com/p/pythonxy/\n",
      "\n",
      "## Vorgehen:\n",
      "\n",
      "* tippt die untenstehenden Beispiele ein und f\u00fchrt sie aus, spielt mit den Programmen herum\n",
      "* Der Code in einer Zelle kann durch das Men\u00fc ausgef\u00fchrt werden: \"Cell\" -> \"Run\"\n",
      "* Alternativ: SHIFT + ENTER\n",
      "* Alternativ: STRG + ENTER\n",
      "* zu einigen Beispielen gibt es Aufgaben"
     ]
    },
    {
     "cell_type": "code",
     "collapsed": false,
     "input": [
      "# Am Anfang einmal ausf\u00fchren!\n",
      "%matplotlib inline\n",
      "import matplotlib.pyplot as plt\n",
      "import matplotlib as mpl\n",
      "import numpy as np"
     ],
     "language": "python",
     "metadata": {},
     "outputs": [],
     "prompt_number": 2
    },
    {
     "cell_type": "markdown",
     "metadata": {},
     "source": [
      "# 0. Numpy: Numerical Python\n",
      "\n",
      "## 0.1 Arrays"
     ]
    },
    {
     "cell_type": "code",
     "collapsed": false,
     "input": [
      "# erstelle einen Vektor der Gr\u00f6\u00dfe 4 mit Einsen\n",
      "vektor = np.ones(4)\n",
      "print('Vektor', vektor)\n",
      "\n",
      "# multipliziere ALLE Eintr\u00e4ge mit 5\n",
      "vektor *= 5\n",
      "print('Vektor', vektor)\n",
      "\n",
      "# \u00e4ndere den ersten Eintrag auf 6\n",
      "vektor[0] = 6\n",
      "print('Vektor', vektor)\n",
      "\n",
      "# \u00e4ndere den letzten Eintrag auf 7\n",
      "vektor[-1] = 7\n",
      "# ist das gleiche wie\n",
      "vektor[3] = 7\n",
      "print('Vektor', vektor)\n",
      "\n",
      "# \u00e4ndere die beiden mittleren Eintr\u00e4ge auf 9\n",
      "# beachte den hinteren Index: Eintrag mit Index 3 wird NICHT ausgew\u00e4hlt\n",
      "vektor[1:3] = 9\n",
      "print('Vektor', vektor)\n",
      "print('Auswahl', vektor[1:3])"
     ],
     "language": "python",
     "metadata": {},
     "outputs": [
      {
       "output_type": "stream",
       "stream": "stdout",
       "text": [
        "('Vektor', array([ 1.,  1.,  1.,  1.]))\n",
        "('Vektor', array([ 5.,  5.,  5.,  5.]))\n",
        "('Vektor', array([ 6.,  5.,  5.,  5.]))\n",
        "('Vektor', array([ 6.,  5.,  5.,  7.]))\n",
        "('Vektor', array([ 6.,  9.,  9.,  7.]))\n",
        "('Auswahl', array([ 9.,  9.]))\n"
       ]
      }
     ],
     "prompt_number": 14
    },
    {
     "cell_type": "code",
     "collapsed": false,
     "input": [
      "matrix = np.eye(4, 4)\n",
      "print matrix"
     ],
     "language": "python",
     "metadata": {},
     "outputs": [
      {
       "output_type": "stream",
       "stream": "stdout",
       "text": [
        "[[ 1.  0.  0.  0.]\n",
        " [ 0.  1.  0.  0.]\n",
        " [ 0.  0.  1.  0.]\n",
        " [ 0.  0.  0.  1.]]\n"
       ]
      }
     ],
     "prompt_number": 9
    },
    {
     "cell_type": "code",
     "collapsed": false,
     "input": [
      "# Matrixmultiplikation\n",
      "mvp = matrix.dot(vektor)\n",
      "print mvp"
     ],
     "language": "python",
     "metadata": {},
     "outputs": [
      {
       "output_type": "stream",
       "stream": "stdout",
       "text": [
        "[ 6.  9.  9.  7.]\n"
       ]
      }
     ],
     "prompt_number": 13
    },
    {
     "cell_type": "markdown",
     "metadata": {},
     "source": [
      "## 0.2 Rotation eines Vektors in 2D\n",
      "\n",
      "Ein Vektor $v$ kann um den Winkel $\\alpha$ mit Hilfe einer Rotationsmatrix rotiert werden:\n",
      "\n",
      "$v_{rot} = A \\cdot v$, mit\n",
      "\n",
      "$A = \\begin{pmatrix} \\cos \\alpha & -\\sin \\alpha\\\\ \\sin \\alpha & \\cos \\alpha\\end{pmatrix}$\n",
      "\n",
      "Beachte, dass Winkelfunktionen meistens auf Radian arbeiten:"
     ]
    },
    {
     "cell_type": "code",
     "collapsed": false,
     "input": [
      "# Umrechnung Grad in Radian:\n",
      "grad = 360\n",
      "rad = grad * np.pi / 180\n",
      "print('Grad: {0}, Rad: {1}'.format(grad, rad))\n",
      "\n",
      "# Umrechnung Radian in Grad:\n",
      "rad1 = np.pi\n",
      "grad1 = rad1 * 180 / np.pi\n",
      "print('Grad: {0}, Rad: {1}'.format(grad1, rad1))\n"
     ],
     "language": "python",
     "metadata": {},
     "outputs": [
      {
       "output_type": "stream",
       "stream": "stdout",
       "text": [
        "Grad: 360, Rad: 6.28318530718\n",
        "Grad: 180.0, Rad: 3.14159265359\n"
       ]
      }
     ],
     "prompt_number": 18
    },
    {
     "cell_type": "code",
     "collapsed": false,
     "input": [
      "vektor_2d = np.array((3.0, 4.0))\n",
      "\n",
      "# in Grad\n",
      "alpha_deg = 30\n",
      "alpha_rad = alpha_deg * np.pi / 180\n",
      "\n",
      "# baue rotationsmatrix\n",
      "A = np.array(((np.cos(alpha_rad), - np.sin(alpha_rad)), (np.sin(alpha_rad), np.cos(alpha_rad))))\n",
      "print('A', A)\n",
      "print('Dimensionen A', A.shape)\n",
      "\n",
      "# Rotation\n",
      "vektor_2d_rot = A.dot(vektor_2d)\n",
      "print('Rotierter Vektor', vektor_2d_rot)"
     ],
     "language": "python",
     "metadata": {},
     "outputs": [
      {
       "output_type": "stream",
       "stream": "stdout",
       "text": [
        "('A', array([[ 0.8660254, -0.5      ],\n",
        "       [ 0.5      ,  0.8660254]]))\n",
        "('Dimensionen A', (2, 2))\n",
        "('Rotierter Vektor', array([ 0.59807621,  4.96410162]))\n"
       ]
      }
     ],
     "prompt_number": 20
    },
    {
     "cell_type": "code",
     "collapsed": false,
     "input": [
      "# plot\n",
      "fig, ax = plt.subplots(1, 1)\n",
      "ax.plot([0, vektor_2d[0]], [0, vektor_2d[1]], '-', color='k', label='original')\n",
      "ax.plot([0, vektor_2d_rot[0]], [0, vektor_2d_rot[1]], '-', color='r', label='rotiert')\n",
      "\n",
      "ax.set_xlim(-5, 5)\n",
      "ax.set_ylim(-5, 5)\n",
      "ax.grid()\n",
      "ax.legend(loc='best')\n",
      "ax.set_xlabel('x')\n",
      "ax.set_ylabel('y')"
     ],
     "language": "python",
     "metadata": {},
     "outputs": [
      {
       "metadata": {},
       "output_type": "pyout",
       "prompt_number": 26,
       "text": [
        "<matplotlib.text.Text at 0x7fdccd8baad0>"
       ]
      },
      {
       "metadata": {},
       "output_type": "display_data",
       "png": "[encoded data removed]",
       "text": [
        "<matplotlib.figure.Figure at 0x7fdccd995e10>"
       ]
      }
     ],
     "prompt_number": 26
    },
    {
     "cell_type": "markdown",
     "metadata": {},
     "source": [
      "## Aufgabe 0.1:\n",
      "\n",
      "* Rotation einer Gerade, welche nicht durch den Nullpunkt geht. Rotiere die Gerade, definiert durch die Punkte P1 und P2, um 50 Grad. P1 = (2.0, 1.5), P2 = (6.0, -3.0)\n",
      "\n",
      "  Plotte das Ergebnis\n",
      "  \n",
      "Tipp: Benutze die Vektorvariante der Geradegleichung: https://de.wikipedia.org/wiki/Geradengleichung"
     ]
    },
    {
     "cell_type": "code",
     "collapsed": false,
     "input": [
      "# L\u00f6sung A0.1\n",
      "P1 = np.array((2.0, 1.5))\n",
      "P2 = np.array((6.0, -3.0))\n",
      "\n",
      "# Geradengleichung\n",
      "p = p1\n",
      "u = p2 - p1\n",
      "print u\n",
      "\n",
      "# Rotation\n",
      "alpha_deg = 50\n",
      "alpha_rad = alpha_deg * np.pi / 180\n",
      "A = np.array(((np.cos(alpha_rad), - np.sin(alpha_rad)), (np.sin(alpha_rad), np.cos(alpha_rad))))\n",
      "\n",
      "u_rot = A.dot(u)\n",
      "\n",
      "P1rot = P1\n",
      "P2rot = p + u_rot\n",
      "\n",
      "Protx, Proty = [xy for xy in zip(P1rot, P2rot)]\n",
      "\n",
      "# Anfangs- und Endpunkte der Vektoren\n",
      "px = [0, p1[0]]\n",
      "py = [0, p1[1]]\n",
      "\n",
      "Px, Py = [xy for xy in zip(P1, P2)]\n",
      "\n",
      "fig, ax = plt.subplots(1, 1)\n",
      "ax.plot(px, py, label='p', linestyle='dashed')\n",
      "ax.plot(Px, Py, label='u')\n",
      "\n",
      "ax.plot(Protx, Proty, label='u_rot')\n",
      "\n",
      "ax.set_xlim(-7, 7)\n",
      "ax.set_ylim(-7, 7)\n",
      "ax.grid()\n",
      "ax.legend(loc='best')\n",
      "ax.set_xlabel('x')\n",
      "ax.set_ylabel('y')\n",
      "ax.set_aspect('equal')"
     ],
     "language": "python",
     "metadata": {},
     "outputs": [
      {
       "output_type": "stream",
       "stream": "stdout",
       "text": [
        "[ 4.  -4.5]\n"
       ]
      },
      {
       "metadata": {},
       "output_type": "display_data",
       "png": "[encoded data removed]",
       "text": [
        "<matplotlib.figure.Figure at 0x7fdccd17dc50>"
       ]
      }
     ],
     "prompt_number": 41
    },
    {
     "cell_type": "markdown",
     "metadata": {},
     "source": [
      "## Matplotlib\n",
      "\n"
     ]
    },
    {
     "cell_type": "markdown",
     "metadata": {},
     "source": [
      "# 1. Numpy: Einlesen von Daten\n",
      "\n",
      "## 1.1 einfache Textdateien"
     ]
    },
    {
     "cell_type": "code",
     "collapsed": false,
     "input": [
      "# erstellen einer einfachen Datei:\n",
      "with open('einfache_textdatei.dat', 'w') as fid:\n",
      "    fid.write(\"\"\"0.0 0.0\n",
      "1.0 2.0\n",
      "2.0 4.0\n",
      "3.0 5.0\"\"\")"
     ],
     "language": "python",
     "metadata": {},
     "outputs": [],
     "prompt_number": 1
    },
    {
     "cell_type": "code",
     "collapsed": false,
     "input": [
      "# einlesen der Datei\n",
      "data = np.loadtxt('einfache_textdatei.dat')\n",
      "print(\"Datentyp:\", type(data))\n",
      "print(\"Dimensionen des Arrays:\", data.shape)\n",
      "print(\"Inhalt:\", data)\n",
      "print(\"Erste Spalte:\", data[:, 0])"
     ],
     "language": "python",
     "metadata": {},
     "outputs": [
      {
       "output_type": "stream",
       "stream": "stdout",
       "text": [
        "('Datentyp:', <type 'numpy.ndarray'>)\n",
        "('Dimensionen des Arrays:', (4, 2))\n",
        "('Inhalt:', array([[ 0.,  0.],\n",
        "       [ 1.,  2.],\n",
        "       [ 2.,  4.],\n",
        "       [ 3.,  5.]]))\n",
        "('Erste Spalte:', array([ 0.,  1.,  2.,  3.]))\n"
       ]
      }
     ],
     "prompt_number": 7
    },
    {
     "cell_type": "markdown",
     "metadata": {},
     "source": [
      "### Aufgabe 1.1a\n",
      "\n",
      "* Plotte die eingelesenen Daten mit Hilfe der Funktion `plt.plot`"
     ]
    },
    {
     "cell_type": "code",
     "collapsed": false,
     "input": [
      "# L\u00f6sung A1.1a\n",
      "plt.plot(data[:, 0], data[:, 1], '.-')"
     ],
     "language": "python",
     "metadata": {},
     "outputs": [
      {
       "metadata": {},
       "output_type": "pyout",
       "prompt_number": 6,
       "text": [
        "[<matplotlib.lines.Line2D at 0x7fdccdcd27d0>]"
       ]
      },
      {
       "metadata": {},
       "output_type": "display_data",
       "png": "[encoded data removed]",
       "text": [
        "<matplotlib.figure.Figure at 0x7fdcd40302d0>"
       ]
      }
     ],
     "prompt_number": 6
    },
    {
     "cell_type": "markdown",
     "metadata": {},
     "source": [
      "### Aufgabe 1.1b\n",
      "\n",
      "Lese eine Datei mit Header ein. Diese kann erstellt werden mit dem Code:\n",
      "\n",
      "    with open('einfache_textdatei_mit_header.dat', 'w') as fid:\n",
      "        fid.write(\"\"\"# x y\n",
      "    0.0 0.0\n",
      "    1.0 2.0\n",
      "    2.0 4.0\n",
      "    3.0 5.0\"\"\")\n",
      "\n",
      "Die erste Zeile muss ignoriert werden, um die Daten erfolgreich einzulesen.\n",
      "Benutze daf\u00fcr die entsprechende Option der Funktion `np.loadtxt`. Um alle Optionen angezeigt zu bekommen, tippe\n",
      "`np.loadtxt(`. Die Kontexthilfe kann nun durch gleichzeitiges Dr\u00fccken der Tasten SHIFT + TAB ge\u00f6ffnet werden (zuerst SHIFT, danach TAB). Nochmaliges Dr\u00fccken von TAB (bei gehaltenem SHIFT, vergr\u00f6\u00dfert die Hilfe und zeigt mehr Text an."
     ]
    },
    {
     "cell_type": "code",
     "collapsed": false,
     "input": [
      "# L\u00f6sung 1.1b\n",
      "with open('einfache_textdatei_mit_header.dat', 'w') as fid:\n",
      "        fid.write(\"\"\"# x y\n",
      "0.0 0.0\n",
      "1.0 2.0\n",
      "2.0 4.0\n",
      "3.0 5.0\"\"\")\n",
      "        \n",
      "data = np.loadtxt('einfache_textdatei_mit_header.dat', skiprows=1)\n",
      "print data"
     ],
     "language": "python",
     "metadata": {},
     "outputs": [
      {
       "output_type": "stream",
       "stream": "stdout",
       "text": [
        "[[ 0.  0.]\n",
        " [ 1.  2.]\n",
        " [ 2.  4.]\n",
        " [ 3.  5.]]\n"
       ]
      }
     ],
     "prompt_number": 44
    },
    {
     "cell_type": "markdown",
     "metadata": {},
     "source": [
      "## Aufgabe 1.1b\n",
      "\n",
      "* Generiere eine 2x3 Matrix und speichere dies in der Datei `matrix_2x3.dat` mit Hilfe des Befehls `np.savetxt`.\n",
      "* Lese die Datei wieder ein, und vergleiche die Dimensionen der entstehenden Arrays"
     ]
    },
    {
     "cell_type": "markdown",
     "metadata": {},
     "source": [
      "# 2. Elektrische Potentialverteilung\n",
      "\n",
      "# 2.1 Punktquelle im Halbraum\n",
      "\n",
      "Das elektrische Potential in einem homogenen Vollraum ist definiert als:\n",
      "\n",
      "$\\phi(r) = \\frac{\\rho I}{4 \\pi r}$\n",
      "\n",
      "Im Folgenden plotten berechnen wir das Potential auf einem regul\u00e4ren Gitter, und plotten es in einen Contourplot "
     ]
    },
    {
     "cell_type": "code",
     "collapsed": false,
     "input": [
      "# definiere x und y Koordinaten der Gitter\n",
      "x = np.arange(-5, 5, 0.1)\n",
      "y = np.arange(-5, 5, 0.1)\n",
      "# erstelle das Gitter\n",
      "X, Y = np.meshgrid(x, y)\n",
      "# berechne Abst\u00e4nde zum Nullpunkt\n",
      "# beachte die Offsets 0.05. Diese dienen nur dazu, die Singulari\u00e4t (bzw. SEHR gro\u00dfe Werte) zu verhindern \n",
      "r = np.sqrt((X - 0.05)**2 + (Y - 0.05)**2)\n",
      "# Strom [A]\n",
      "I = 1\n",
      "# spez. Widerstand [Ohm m]\n",
      "rho = 100\n",
      "\n",
      "phi = rho * I / (4 * np.pi * r)\n",
      "phi_single = phi\n",
      "\n",
      "fig, ax = plt.subplots(1, 1)\n",
      "cf = ax.contourf(X, Y, np.log10(phi))\n",
      "cb = fig.colorbar(cf)"
     ],
     "language": "python",
     "metadata": {},
     "outputs": [
      {
       "metadata": {},
       "output_type": "pyout",
       "prompt_number": 94,
       "text": [
        "<matplotlib.colorbar.Colorbar instance at 0x7fdcb7ed7488>"
       ]
      },
      {
       "metadata": {},
       "output_type": "display_data",
       "png": "[encoded data removed]",
       "text": [
        "<matplotlib.figure.Figure at 0x7fdcbd6f1790>"
       ]
      }
     ],
     "prompt_number": 94
    },
    {
     "cell_type": "markdown",
     "metadata": {},
     "source": [
      "# Aufgaben\n",
      "\n",
      "* Setze x- und y-labels\n",
      "* Setze einen Titel\n",
      "* Setze ein Colorbar-Label (`cb.set_label`)\n",
      "* Setze die Offsets auf Null, und plotte das entstehende Potentialfeld\n",
      "* \u00c4ndere die Plotart auf Kontourlinien (`ax.contourf`)\n",
      "* \u00c4ndere die Anzahl der Levels im Kontourplot\n",
      "* Fixiere die Levels auf bestimmte Werte\n",
      "\n",
      "Tipp: Benutze die Kontexthilfe von contour(...), oder die Matplotlib-Hilfe"
     ]
    },
    {
     "cell_type": "markdown",
     "metadata": {},
     "source": [
      "## Zwei Potentialquellen\n",
      "\n",
      "Benutze das Superpositionsprinzip, um das resultierende Potentialfeld zweier Stromquellen zu berechnen."
     ]
    },
    {
     "cell_type": "code",
     "collapsed": false,
     "input": [
      "x = np.arange(-5, 5, 0.101)\n",
      "y = np.arange(-5, 5, 0.101)\n",
      "X, Y = np.meshgrid(x, y)\n",
      "r1 = np.sqrt((X)**2 + (Y)**2)\n",
      "r2 = np.sqrt((X + 4)**2 + Y**2)\n",
      "I = 1\n",
      "rho = 100\n",
      "\n",
      "phi1 = rho * I / (4 * np.pi * r1)\n",
      "phi2 = rho * I / (4 * np.pi * r2)\n",
      "phi = phi1 + phi2\n",
      "\n",
      "fig, ax = plt.subplots(1, 1)\n",
      "cf = ax.contourf(X, Y, np.log10(phi))\n",
      "fig.colorbar(cf)"
     ],
     "language": "python",
     "metadata": {},
     "outputs": [
      {
       "metadata": {},
       "output_type": "pyout",
       "prompt_number": 4,
       "text": [
        "<matplotlib.colorbar.Colorbar instance at 0x7f6de915a248>"
       ]
      },
      {
       "metadata": {},
       "output_type": "display_data",
       "png": "[encoded data removed]",
       "text": [
        "<matplotlib.figure.Figure at 0x7f6de9242bd0>"
       ]
      }
     ],
     "prompt_number": 4
    },
    {
     "cell_type": "markdown",
     "metadata": {},
     "source": [
      "## Aufgaben\n",
      "\n",
      "* \u00c4ndere das Vorzeichen einer der Stromquellen. Welche Fehlermeldung wird ausgegeben, und warum? Welche L\u00f6sungsm\u00f6glichkeiten gibt es?\n",
      "* F\u00fcge eine dritte Stromquelle hinzu\n",
      "* Erzeuge einen Plot, welcher das Potential gegen die X-Achse f\u00fcr y=0 auszeigt. Extrahiere die n\u00f6tigen Daten aus dem Array `phi`"
     ]
    },
    {
     "cell_type": "code",
     "collapsed": false,
     "input": [
      "## Lineare Regression"
     ],
     "language": "python",
     "metadata": {},
     "outputs": [],
     "prompt_number": 8
    },
    {
     "cell_type": "code",
     "collapsed": false,
     "input": [
      "# Erzeuge eine Gerade\n",
      "x = np.arange(0, 20, 1)\n",
      "y = 3.4 * x + 2.1\n",
      "\n",
      "# F\u00fcge Rauschen hinzu\n",
      "np.random.seed(5)\n",
      "# Standardabweichung\n",
      "std_noise = 10\n",
      "# verschiebe die Kurve, so dass die Zufallswerte symmetrisch um die Datenpunkte verteilt sind\n",
      "offset = std_noise / 2.0\n",
      "y_plus_noise = y + np.random.random(size=y.size) * std_noise - offset\n",
      "\n",
      "# Plotte\n",
      "fig, ax = plt.subplots(1, 1, figsize=(7,7))\n",
      "ax.plot(x, y, '.-', label='orig')\n",
      "ax.plot(x, y_plus_noise, '.-', label='Rohdaten')\n"
     ],
     "language": "python",
     "metadata": {},
     "outputs": [
      {
       "metadata": {},
       "output_type": "pyout",
       "prompt_number": 11,
       "text": [
        "[<matplotlib.lines.Line2D at 0x7f6de8f12210>]"
       ]
      },
      {
       "metadata": {},
       "output_type": "display_data",
       "png": "[encoded data removed]",
       "text": [
        "<matplotlib.figure.Figure at 0x7f6de8f61890>"
       ]
      }
     ],
     "prompt_number": 11
    },
    {
     "cell_type": "code",
     "collapsed": false,
     "input": [
      "# Regression per Hand\n",
      "\n",
      "N = y_plus_noise.size\n",
      "ymean = np.mean(y_plus_noise)\n",
      "xmean = np.mean(x)\n",
      "# Steigung\n",
      "b = (N * np.sum(x * y_plus_noise) - np.sum(x) * np.sum(y_plus_noise)) / (N * np.sum(x**2) - (np.sum(x))**2)\n",
      "a = ymean - b * xmean\n",
      "\n",
      "ymod = b * x + a\n",
      "fig, ax = plt.subplots(1, 1)\n",
      "ax.plot(x, ymod, label='Fit')\n",
      "ax.plot(x, y_plus_noise, label='Daten')\n",
      "ax.legend()"
     ],
     "language": "python",
     "metadata": {},
     "outputs": [
      {
       "metadata": {},
       "output_type": "pyout",
       "prompt_number": 17,
       "text": [
        "<matplotlib.legend.Legend at 0x7f6de8aed650>"
       ]
      },
      {
       "metadata": {},
       "output_type": "display_data",
       "png": "[encoded data removed]",
       "text": [
        "<matplotlib.figure.Figure at 0x7f6de8b680d0>"
       ]
      }
     ],
     "prompt_number": 17
    },
    {
     "cell_type": "code",
     "collapsed": false,
     "input": [
      "# geht auch einfach\n",
      "p = np.polyfit(x, y_plus_noise, 1)\n",
      "print \n",
      "\n",
      "fig, ax = plt.subplots(1, 1)\n",
      "ax.plot(x, y_plus_noise)\n",
      "ax.plot(x, np.polyval(p, x))"
     ],
     "language": "python",
     "metadata": {},
     "outputs": [
      {
       "output_type": "stream",
       "stream": "stdout",
       "text": [
        "\n"
       ]
      },
      {
       "metadata": {},
       "output_type": "pyout",
       "prompt_number": 20,
       "text": [
        "[<matplotlib.lines.Line2D at 0x7f6de89ad2d0>]"
       ]
      },
      {
       "metadata": {},
       "output_type": "display_data",
       "png": "[encoded data removed]",
       "text": [
        "<matplotlib.figure.Figure at 0x7f6de8aa1910>"
       ]
      }
     ],
     "prompt_number": 20
    },
    {
     "cell_type": "markdown",
     "metadata": {},
     "source": [
      "## Aufgaben\n",
      "\n",
      "* Das Bestimmtheitsma\u00df $R^2$ gibt die G\u00fcte des linearen Fits an:\n",
      "\n",
      "  $R^2 = 1 - \\frac{(\\sum_i y_i - f(x_i))^2} {(\\sum_i y_i - \\hat{y})^2}$,\n",
      "  mit $y_i$ der i-te Datenwert, $\\hat{y}$ der Mittelwert der Daten, und $f(x_i)$ die i-te Fitvorhersage.\n",
      "  \n",
      "  Implementiere das Bestimmtheitsma\u00df als Funktion\n",
      "  \n",
      "  def Rsquare(x, y, f):\n",
      "      ...\n",
      "      \n",
      "* Berechne $R^2$ in Abh\u00e4ngigkeit der Standardabweichung des Rauschens. Plotte std vs. $R^2$"
     ]
    },
    {
     "cell_type": "markdown",
     "metadata": {},
     "source": [
      "# L\u00f6sungen"
     ]
    },
    {
     "cell_type": "code",
     "collapsed": false,
     "input": [],
     "language": "python",
     "metadata": {},
     "outputs": []
    }
   ],
   "metadata": {}
  }
 ]
}