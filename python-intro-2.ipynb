{
 "metadata": {
  "name": "",
  "signature": "sha256:db31d4abd3bbdfc1eadc747a30fa897c668419e577b264d834dc345f246a3361"
 },
 "nbformat": 3,
 "nbformat_minor": 0,
 "worksheets": [
  {
   "cells": [
    {
     "cell_type": "markdown",
     "metadata": {},
     "source": [
      "# Teil 2\n",
      "\n",
      "Kurs basierend auf: https://github.com/arne-cl/python-einfuehrung\n",
      "\n",
      "Aktuelle Version: https://github.com/m-weigand/python-einfuehrung\n",
      "\n",
      "# Python-Einf\u00fchrung (21.5.2015, 16:15 - 19:00, 9.7.2015, 16:15 - 19:00)\n",
      "\n",
      "* wir verwenden Python 2.7 (aktuell ist 3.3, aber Unterst\u00fctzung f\u00fcr einige wissenschaftliche Packete ist noch nicht gegeben)\n",
      "* Oberfl\u00e4che im Browser: IPython Notebook https://www.ipython.org\n",
      "* Programmieren lernt man nur durch Programmieren!\n",
      "* Nachvollziehen ist gut, Nachprogrammieren besser!\n",
      "* Benutzt die Hilfe (im Men\u00fc von IPython)\n",
      "* http://stackoverflow.com ist eine sehr gute Quelle f\u00fcr praktische Tips \n",
      "\n",
      "## F\u00fcr den Heimgebrauch:\n",
      "\n",
      "* Minimalanforderung: Python-Interpreter und einen Text-Editor\n",
      "- wird bei Linux schon mitgeliefert, ansonsten: https://www.python.org/downloads/\n",
      "* F\u00fcr Windows: Komplettpacket: https://code.google.com/p/pythonxy/\n",
      "\n",
      "## Vorgehen:\n",
      "\n",
      "* tippt die untenstehenden Beispiele ein und f\u00fchrt sie aus, spielt mit den Programmen herum\n",
      "* Der Code in einer Zelle kann durch das Men\u00fc ausgef\u00fchrt werden: \"Cell\" -> \"Run\"\n",
      "* Alternativ: SHIFT + ENTER\n",
      "* Alternativ: STRG + ENTER\n",
      "* zu einigen Beispielen gibt es Aufgaben (und teilweise L\u00f6sungen)"
     ]
    },
    {
     "cell_type": "code",
     "collapsed": false,
     "input": [
      "# Am Anfang einmal ausf\u00fchren!\n",
      "%matplotlib inline\n",
      "import matplotlib.pyplot as plt\n",
      "import matplotlib as mpl\n",
      "import numpy as np"
     ],
     "language": "python",
     "metadata": {},
     "outputs": [],
     "prompt_number": 47
    },
    {
     "cell_type": "markdown",
     "metadata": {},
     "source": [
      "# Numpy: Numerical Python\n",
      "\n",
      "## Arrays"
     ]
    },
    {
     "cell_type": "code",
     "collapsed": false,
     "input": [
      "# erstelle einen Vektor der Gr\u00f6\u00dfe 4 mit Einsen\n",
      "vektor = np.ones(4)\n",
      "print('Vektor', vektor)\n",
      "\n",
      "# multipliziere ALLE Eintr\u00e4ge mit 5\n",
      "vektor *= 5\n",
      "print('Vektor', vektor)\n",
      "\n",
      "# \u00e4ndere den ersten Eintrag auf 6\n",
      "vektor[0] = 6\n",
      "print('Vektor', vektor)\n",
      "\n",
      "# \u00e4ndere den letzten Eintrag auf 7\n",
      "vektor[-1] = 7\n",
      "# ist das gleiche wie\n",
      "vektor[3] = 7\n",
      "print('Vektor', vektor)\n",
      "\n",
      "# \u00e4ndere die beiden mittleren Eintr\u00e4ge auf 9\n",
      "# beachte den hinteren Index: Eintrag mit Index 3 wird NICHT ausgew\u00e4hlt\n",
      "vektor[1:3] = 9\n",
      "print('Vektor', vektor)\n",
      "print('Auswahl', vektor[1:3])"
     ],
     "language": "python",
     "metadata": {},
     "outputs": [
      {
       "output_type": "stream",
       "stream": "stdout",
       "text": [
        "('Vektor', array([ 1.,  1.,  1.,  1.]))\n",
        "('Vektor', array([ 5.,  5.,  5.,  5.]))\n",
        "('Vektor', array([ 6.,  5.,  5.,  5.]))\n",
        "('Vektor', array([ 6.,  5.,  5.,  7.]))\n",
        "('Vektor', array([ 6.,  9.,  9.,  7.]))\n",
        "('Auswahl', array([ 9.,  9.]))\n"
       ]
      }
     ],
     "prompt_number": 48
    },
    {
     "cell_type": "code",
     "collapsed": false,
     "input": [
      "matrix = np.eye(4, 4)\n",
      "print matrix"
     ],
     "language": "python",
     "metadata": {},
     "outputs": [
      {
       "output_type": "stream",
       "stream": "stdout",
       "text": [
        "[[ 1.  0.  0.  0.]\n",
        " [ 0.  1.  0.  0.]\n",
        " [ 0.  0.  1.  0.]\n",
        " [ 0.  0.  0.  1.]]\n"
       ]
      }
     ],
     "prompt_number": 49
    },
    {
     "cell_type": "code",
     "collapsed": false,
     "input": [
      "# Matrixmultiplikation\n",
      "mvp = matrix.dot(vektor)\n",
      "print mvp"
     ],
     "language": "python",
     "metadata": {},
     "outputs": [
      {
       "output_type": "stream",
       "stream": "stdout",
       "text": [
        "[ 6.  9.  9.  7.]\n"
       ]
      }
     ],
     "prompt_number": 50
    },
    {
     "cell_type": "markdown",
     "metadata": {},
     "source": [
      "## 0.2 Rotation eines Vektors in 2D\n",
      "\n",
      "Ein Vektor $v$ kann um den Winkel $\\alpha$ mit Hilfe einer Rotationsmatrix rotiert werden:\n",
      "\n",
      "$v_{rot} = A \\cdot v$, mit\n",
      "\n",
      "$A = \\begin{pmatrix} \\cos \\alpha & -\\sin \\alpha\\\\ \\sin \\alpha & \\cos \\alpha\\end{pmatrix}$\n",
      "\n",
      "Beachte, dass Winkelfunktionen meistens auf Radian arbeiten:"
     ]
    },
    {
     "cell_type": "code",
     "collapsed": false,
     "input": [
      "# Umrechnung Grad in Radian:\n",
      "grad = 360\n",
      "rad = grad * np.pi / 180\n",
      "print('Grad: {0}, Rad: {1}'.format(grad, rad))\n",
      "\n",
      "# Umrechnung Radian in Grad:\n",
      "rad1 = np.pi\n",
      "grad1 = rad1 * 180 / np.pi\n",
      "print('Grad: {0}, Rad: {1}'.format(grad1, rad1))\n"
     ],
     "language": "python",
     "metadata": {},
     "outputs": [
      {
       "output_type": "stream",
       "stream": "stdout",
       "text": [
        "Grad: 360, Rad: 6.28318530718\n",
        "Grad: 180.0, Rad: 3.14159265359\n"
       ]
      }
     ],
     "prompt_number": 51
    },
    {
     "cell_type": "code",
     "collapsed": false,
     "input": [
      "vektor_2d = np.array((3.0, 4.0))\n",
      "\n",
      "# in Grad\n",
      "alpha_deg = 30\n",
      "alpha_rad = alpha_deg * np.pi / 180\n",
      "\n",
      "# baue rotationsmatrix\n",
      "A = np.array(((np.cos(alpha_rad), - np.sin(alpha_rad)),\n",
      "              (np.sin(alpha_rad), np.cos(alpha_rad))))\n",
      "print('A', A)\n",
      "print('Dimensionen A', A.shape)\n",
      "\n",
      "# Rotation\n",
      "vektor_2d_rot = A.dot(vektor_2d)\n",
      "print('Rotierter Vektor', vektor_2d_rot)"
     ],
     "language": "python",
     "metadata": {},
     "outputs": [
      {
       "output_type": "stream",
       "stream": "stdout",
       "text": [
        "('A', array([[ 0.8660254, -0.5      ],\n",
        "       [ 0.5      ,  0.8660254]]))\n",
        "('Dimensionen A', (2, 2))\n",
        "('Rotierter Vektor', array([ 0.59807621,  4.96410162]))\n"
       ]
      }
     ],
     "prompt_number": 52
    },
    {
     "cell_type": "code",
     "collapsed": false,
     "input": [
      "# plot\n",
      "fig, ax = plt.subplots(1, 1)\n",
      "ax.plot([0, vektor_2d[0]], [0, vektor_2d[1]], '-',\n",
      "        color='k', label='original')\n",
      "ax.plot([0, vektor_2d_rot[0]], [0, vektor_2d_rot[1]],\n",
      "        '-', color='r', label='rotiert')\n",
      "\n",
      "ax.set_xlim(-5, 5)\n",
      "ax.set_ylim(-5, 5)\n",
      "ax.grid()\n",
      "ax.legend(loc='best')\n",
      "ax.set_xlabel('x')\n",
      "ax.set_ylabel('y')"
     ],
     "language": "python",
     "metadata": {},
     "outputs": [
      {
       "metadata": {},
       "output_type": "pyout",
       "prompt_number": 53,
       "text": [
        "<matplotlib.text.Text at 0x7f9b78062310>"
       ]
      },
      {
       "metadata": {},
       "output_type": "display_data",
       "png": "[encoded data removed]",
       "text": [
        "<matplotlib.figure.Figure at 0x7f9b71fffb10>"
       ]
      }
     ],
     "prompt_number": 53
    },
    {
     "cell_type": "markdown",
     "metadata": {},
     "source": [
      "## Aufgabe Rotation:\n",
      "\n",
      "* Rotation einer Gerade, welche nicht durch den Nullpunkt geht. Rotiere die Gerade, definiert durch die Punkte P1 und P2, um 50 Grad. P1 = (2.0, 1.5), P2 = (6.0, -3.0)\n",
      "\n",
      "  Plotte das Ergebnis\n",
      "  \n",
      "Tipp: Benutze die Vektorvariante der Geradegleichung: https://de.wikipedia.org/wiki/Geradengleichung"
     ]
    },
    {
     "cell_type": "markdown",
     "metadata": {},
     "source": [
      "## Matplotlib\n",
      "\n"
     ]
    },
    {
     "cell_type": "markdown",
     "metadata": {},
     "source": [
      "# Numpy: Einlesen von Daten\n",
      "\n",
      "## einfache Textdateien"
     ]
    },
    {
     "cell_type": "code",
     "collapsed": false,
     "input": [
      "# Erstellen einer einfachen Datei:\n",
      "with open('einfache_textdatei.dat', 'w') as fid:\n",
      "    fid.write(\"\"\"0.0 0.0\n",
      "1.0 2.0\n",
      "2.0 4.0\n",
      "3.0 5.0\"\"\")"
     ],
     "language": "python",
     "metadata": {},
     "outputs": [],
     "prompt_number": 54
    },
    {
     "cell_type": "code",
     "collapsed": false,
     "input": [
      "# Einlesen der Datei\n",
      "data = np.loadtxt('einfache_textdatei.dat')\n",
      "print(\"Datentyp:\", type(data))\n",
      "print(\"Dimensionen des Arrays:\", data.shape)\n",
      "print(\"Inhalt:\", data)\n",
      "print(\"Erste Spalte:\", data[:, 0])"
     ],
     "language": "python",
     "metadata": {},
     "outputs": [
      {
       "output_type": "stream",
       "stream": "stdout",
       "text": [
        "('Datentyp:', <type 'numpy.ndarray'>)\n",
        "('Dimensionen des Arrays:', (4, 2))\n",
        "('Inhalt:', array([[ 0.,  0.],\n",
        "       [ 1.,  2.],\n",
        "       [ 2.,  4.],\n",
        "       [ 3.,  5.]]))\n",
        "('Erste Spalte:', array([ 0.,  1.,  2.,  3.]))\n"
       ]
      }
     ],
     "prompt_number": 55
    },
    {
     "cell_type": "markdown",
     "metadata": {},
     "source": [
      "### Aufgabe Numpy a\n",
      "\n",
      "* Plotte die eingelesenen Daten mit Hilfe der Funktion `plt.plot`"
     ]
    },
    {
     "cell_type": "markdown",
     "metadata": {},
     "source": [
      "### Aufgabe Numpy b\n",
      "\n",
      "Lese eine Datei mit Header ein. Diese kann erstellt werden mit dem Code:\n",
      "\n",
      "    with open('einfache_textdatei_mit_header.dat', 'w') as fid:\n",
      "        fid.write(\"\"\"# x y\n",
      "    0.0 0.0\n",
      "    1.0 2.0\n",
      "    2.0 4.0\n",
      "    3.0 5.0\"\"\")\n",
      "\n",
      "Die erste Zeile muss ignoriert werden, um die Daten erfolgreich einzulesen.\n",
      "Benutze daf\u00fcr die entsprechende Option der Funktion `np.loadtxt`. Um alle Optionen angezeigt zu bekommen, tippe\n",
      "`np.loadtxt(`. Die Kontexthilfe kann nun durch gleichzeitiges Dr\u00fccken der Tasten SHIFT + TAB ge\u00f6ffnet werden (zuerst SHIFT, danach TAB). Nochmaliges Dr\u00fccken von TAB (bei gehaltenem SHIFT, vergr\u00f6\u00dfert die Hilfe und zeigt mehr Text an."
     ]
    },
    {
     "cell_type": "markdown",
     "metadata": {},
     "source": [
      "## Aufgabe Numpy c\n",
      "\n",
      "* Generiere eine 2x3 Matrix und speichere dies in der Datei `matrix_2x3.dat` mit Hilfe des Befehls `np.savetxt`.\n",
      "* Lese die Datei wieder ein, und vergleiche die Dimensionen der entstehenden Arrays"
     ]
    },
    {
     "cell_type": "markdown",
     "metadata": {},
     "source": [
      "# Elektrische Potentialverteilung\n",
      "\n",
      "# Punktquelle im Halbraum\n",
      "\n",
      "Das elektrische Potential in einem homogenen Vollraum ist definiert als:\n",
      "\n",
      "$\\phi(r) = \\frac{\\rho I}{4 \\pi r}$\n",
      "\n",
      "Im Folgenden plotten berechnen wir das Potential auf einem regul\u00e4ren Gitter, und plotten es in einen Contourplot "
     ]
    },
    {
     "cell_type": "code",
     "collapsed": false,
     "input": [
      "# definiere x- und y-Koordinaten der Gitter\n",
      "x = np.arange(-5, 5, 0.1)\n",
      "y = np.arange(-5, 5, 0.1)\n",
      "# erstelle das Gitter\n",
      "X, Y = np.meshgrid(x, y)\n",
      "# berechne Abst\u00e4nde zum Nullpunkt\n",
      "# beachte die Offsets 0.05. Diese dienen nur dazu, die Singulari\u00e4t (bzw. SEHR gro\u00dfe\n",
      "# Werte) zu verhindern \n",
      "r = np.sqrt((X - 0.05)**2 + (Y - 0.05)**2)\n",
      "# Strom [A]\n",
      "I = 1\n",
      "# spez. Widerstand [Ohm m]\n",
      "rho = 100\n",
      "\n",
      "phi = rho * I / (4 * np.pi * r)\n",
      "phi_single = phi\n",
      "\n",
      "fig, ax = plt.subplots(1, 1, figsize=(10, 10))\n",
      "cf = ax.contourf(X, Y, np.log10(phi))\n",
      "cb = fig.colorbar(cf)\n",
      "ax.set_aspect('equal')"
     ],
     "language": "python",
     "metadata": {},
     "outputs": [
      {
       "metadata": {},
       "output_type": "display_data",
       "png": "[encoded data removed]",
       "text": [
        "<matplotlib.figure.Figure at 0x7f9b78578c90>"
       ]
      }
     ],
     "prompt_number": 56
    },
    {
     "cell_type": "markdown",
     "metadata": {},
     "source": [
      "# Aufgaben\n",
      "\n",
      "* Setze x- und y-labels\n",
      "* Setze einen Titel\n",
      "* Setze ein Colorbar-Label (`cb.set_label`)\n",
      "* Setze die Offsets auf Null, und plotte das entstehende Potentialfeld\n",
      "* \u00c4ndere die Plotart auf Kontourlinien (`ax.contourf`)\n",
      "* \u00c4ndere die Anzahl der Levels im Kontourplot\n",
      "* Fixiere die Levels auf bestimmte Werte\n",
      "* \n",
      "\n",
      "Tipp: Benutze die Kontexthilfe von contour(...), oder die Matplotlib-Hilfe"
     ]
    },
    {
     "cell_type": "markdown",
     "metadata": {},
     "source": [
      "## Zwei Potentialquellen\n",
      "\n",
      "Benutze das Superpositionsprinzip, um das resultierende Potentialfeld zweier Stromquellen zu berechnen."
     ]
    },
    {
     "cell_type": "code",
     "collapsed": false,
     "input": [
      "# statt des offsets werdem hier keine Glatten Knotenpunkte berechnet\n",
      "x = np.arange(-5, 5, 0.101)\n",
      "y = np.arange(-5, 5, 0.101)\n",
      "X, Y = np.meshgrid(x, y)\n",
      "r1 = np.sqrt((X)**2 + (Y)**2)\n",
      "r2 = np.sqrt((X + 4)**2 + Y**2)\n",
      "I = 1\n",
      "rho = 100\n",
      "\n",
      "phi1 = rho * I / (4 * np.pi * r1)\n",
      "phi2 = rho * I / (4 * np.pi * r2)\n",
      "phi = phi1 + phi2\n",
      "\n",
      "fig, ax = plt.subplots(1, 1)\n",
      "cf = ax.contourf(X, Y, np.log10(phi))\n",
      "_ = fig.colorbar(cf)"
     ],
     "language": "python",
     "metadata": {},
     "outputs": [
      {
       "metadata": {},
       "output_type": "display_data",
       "png": "[encoded data removed]",
       "text": [
        "<matplotlib.figure.Figure at 0x7f9b78b4a410>"
       ]
      }
     ],
     "prompt_number": 57
    },
    {
     "cell_type": "markdown",
     "metadata": {},
     "source": [
      "## Aufgaben\n",
      "\n",
      "* \u00c4ndere das Vorzeichen einer der Stromquellen. Welche Fehlermeldung\n",
      "  wird ausgegeben, und warum? Welche L\u00f6sungsm\u00f6glichkeiten gibt es?\n",
      "* F\u00fcge eine dritte Stromquelle hinzu\n",
      "* Erzeuge einen Plot, welcher das Potential gegen die X-Achse f\u00fcr\n",
      "  y=0 auszeigt. Extrahiere die n\u00f6tigen Daten aus dem Array `phi`"
     ]
    },
    {
     "cell_type": "markdown",
     "metadata": {},
     "source": [
      "## Lineare Regression\n",
      "\n",
      "Im Folgenden wird eine lineare Regression auf zwei verschiedene Arten implementiert."
     ]
    },
    {
     "cell_type": "code",
     "collapsed": false,
     "input": [
      "# Erzeuge eine Gerade\n",
      "x = np.arange(0, 20, 1)\n",
      "y = 3.4 * x + 2.1\n",
      "\n",
      "# F\u00fcge Rauschen hinzu\n",
      "np.random.seed(5)\n",
      "# Standardabweichung\n",
      "std_noise = 10\n",
      "# verschiebe die Kurve, so dass die Zufallswerte symmetrisch um die\n",
      "# Datenpunkte verteilt sind\n",
      "offset = std_noise / 2.0\n",
      "y_plus_noise = y + np.random.random(size=y.size) * std_noise - offset\n",
      "\n",
      "# Plotte\n",
      "fig, ax = plt.subplots(1, 1, figsize=(7,7))\n",
      "ax.plot(x, y, '.-', label='orig')\n",
      "_ = ax.plot(x, y_plus_noise, '.-', label='Rohdaten')\n"
     ],
     "language": "python",
     "metadata": {},
     "outputs": []
    },
    {
     "cell_type": "code",
     "collapsed": false,
     "input": [
      "# Regression per Hand\n",
      "# https://de.wikipedia.org/wiki/Lineare_Regression\n",
      "\n",
      "N = y_plus_noise.size\n",
      "ymean = np.mean(y_plus_noise)\n",
      "xmean = np.mean(x)\n",
      "# Steigung\n",
      "zaehler = (N * np.sum(x * y_plus_noise) - np.sum(x) * np.sum(y_plus_noise))\n",
      "nenner = (N * np.sum(x**2) - (np.sum(x))**2)\n",
      "b = zaehler / nenner\n",
      "\n",
      "# Achsenabschnitt\n",
      "a = ymean - b * xmean\n",
      "\n",
      "ymod = b * x + a\n",
      "\n",
      "fig, ax = plt.subplots(1, 1)\n",
      "ax.plot(x, ymod, label='Fit')\n",
      "ax.plot(x, y_plus_noise, label='Daten')\n",
      "_ = ax.legend()"
     ],
     "language": "python",
     "metadata": {},
     "outputs": []
    },
    {
     "cell_type": "code",
     "collapsed": false,
     "input": [
      "# geht auch einfacher\n",
      "p = np.polyfit(x, y_plus_noise, 1)\n",
      "print \n",
      "\n",
      "fig, ax = plt.subplots(1, 1)\n",
      "ax.plot(x, y_plus_noise)\n",
      "_ = ax.plot(x, np.polyval(p, x))"
     ],
     "language": "python",
     "metadata": {},
     "outputs": []
    },
    {
     "cell_type": "markdown",
     "metadata": {},
     "source": [
      "## Aufgaben\n",
      "\n",
      "* Das Bestimmtheitsma\u00df $R^2$ gibt die G\u00fcte des linearen Fits an:\n",
      "\n",
      "  $R^2 = 1 - \\frac{(\\sum_i y_i - f(x_i))^2} {(\\sum_i y_i - \\hat{y})^2}$,\n",
      "  mit $y_i$ der i-te Datenwert, $\\hat{y}$ der Mittelwert der Daten,\n",
      "  und $f(x_i)$ die i-te Fitvorhersage.\n",
      "  \n",
      "  Implementiere das Bestimmtheitsma\u00df als Funktion\n",
      "  \n",
      "  def Rsquare(x, y, f):\n",
      "      ...\n",
      "      \n",
      "  siehe auch: https://de.wikipedia.org/wiki/Bestimmtheitsma%C3%9F\n",
      "  \n",
      "* Berechne $R^2$ in Abh\u00e4ngigkeit der Standardabweichung des Rauschens.\n",
      "  Plotte std vs. $R^2$\n",
      "* Benutze die Funktion `np.polyval`, um ein Polynom zweiten Gerades\n",
      "  zu erzeugen und zu plotten. F\u00fcge zus\u00e4tzlich eine Rauschkomponente hinzu."
     ]
    },
    {
     "cell_type": "markdown",
     "metadata": {},
     "source": [
      "# L\u00f6sungen"
     ]
    },
    {
     "cell_type": "code",
     "collapsed": false,
     "input": [
      "# L\u00f6sung Rotation\n",
      "P1 = np.array((2.0, 1.5))\n",
      "P2 = np.array((6.0, -3.0))\n",
      "\n",
      "# Geradengleichung\n",
      "p = P1\n",
      "u = P2 - P1\n",
      "print u\n",
      "\n",
      "# Rotation\n",
      "alpha_deg = 50\n",
      "alpha_rad = alpha_deg * np.pi / 180\n",
      "A = np.array(((np.cos(alpha_rad), - np.sin(alpha_rad)),\n",
      "              (np.sin(alpha_rad), np.cos(alpha_rad))))\n",
      "\n",
      "u_rot = A.dot(u)\n",
      "\n",
      "P1rot = P1\n",
      "P2rot = p + u_rot\n",
      "\n",
      "Protx, Proty = [xy for xy in zip(P1rot, P2rot)]\n",
      "\n",
      "# Anfangs- und Endpunkte der Vektoren\n",
      "px = [0, P1[0]]\n",
      "py = [0, P1[1]]\n",
      "\n",
      "Px, Py = [xy for xy in zip(P1, P2)]\n",
      "\n",
      "fig, ax = plt.subplots(1, 1, figsize=(7,7), dpi=300)\n",
      "ax.plot(px, py, label='p', linestyle='dashed')\n",
      "ax.plot(Px, Py, label='u')\n",
      "\n",
      "ax.plot(Protx, Proty, label='u_rot')\n",
      "\n",
      "ax.set_xlim(-7, 7)\n",
      "ax.set_ylim(-7, 7)\n",
      "ax.grid()\n",
      "ax.legend(loc='best')\n",
      "ax.set_xlabel('x')\n",
      "ax.set_ylabel('y')\n",
      "ax.set_aspect('equal')"
     ],
     "language": "python",
     "metadata": {},
     "outputs": []
    },
    {
     "cell_type": "code",
     "collapsed": false,
     "input": [
      "# L\u00f6sung numpy a\n",
      "data = np.loadtxt('einfache_textdatei.dat')\n",
      "plt.plot(data[:, 0], data[:, 1], '.-')"
     ],
     "language": "python",
     "metadata": {},
     "outputs": []
    },
    {
     "cell_type": "code",
     "collapsed": false,
     "input": [
      "# L\u00f6sung Numpy b\n",
      "with open('einfache_textdatei_mit_header.dat', 'w') as fid:\n",
      "        fid.write(\"\"\"# x y\n",
      "0.0 0.0\n",
      "1.0 2.0\n",
      "2.0 4.0\n",
      "3.0 5.0\"\"\")\n",
      "        \n",
      "data = np.loadtxt('einfache_textdatei_mit_header.dat', skiprows=1)\n",
      "print data"
     ],
     "language": "python",
     "metadata": {},
     "outputs": []
    }
   ],
   "metadata": {}
  }
 ]
}