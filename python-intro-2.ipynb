{
 "cells": [
  {
   "cell_type": "markdown",
   "metadata": {
    "deletable": true,
    "editable": true
   },
   "source": [
    "# Teil 2\n",
    "\n",
    "Kurs basierend auf: https://github.com/arne-cl/python-einfuehrung\n",
    "\n",
    "Aktuelle Version: https://github.com/m-weigand/python-einfuehrung\n",
    "\n",
    "# Python-Einführung\n",
    "\n",
    "* wir verwenden Python 3\n",
    "* Oberfläche im Browser: IPython Notebook https://www.ipython.org\n",
    "* Programmieren lernt man nur durch Programmieren!\n",
    "* Nachvollziehen ist gut, Nachprogrammieren besser!\n",
    "* Benutzt die Hilfe (im Menü von IPython)\n",
    "* http://stackoverflow.com ist eine sehr gute Quelle für praktische Tips \n",
    "\n",
    "\n",
    "## Für den Heimgebrauch:\n",
    "\n",
    "* Minimalanforderung: Python-Interpreter und einen Text-Editor\n",
    "- wird bei Linux schon mitgeliefert, ansonsten: https://www.python.org/downloads/\n",
    "* Für Windows: Komplettpacket: https://www.continuum.io/downloads\n",
    "\n",
    "\n",
    "## Vorgehen:\n",
    "\n",
    "* tippt die untenstehenden Beispiele ein und führt sie aus, spielt mit den Programmen herum\n",
    "* Der Code in einer Zelle kann durch das Menü ausgeführt werden: \"Cell\" -> \"Run\"\n",
    "* Alternativ: SHIFT + ENTER\n",
    "* Alternativ: STRG + ENTER\n",
    "* zu einigen Beispielen gibt es Aufgaben (und teilweise Lösungen)"
   ]
  },
  {
   "cell_type": "code",
   "execution_count": null,
   "metadata": {
    "collapsed": false,
    "deletable": true,
    "editable": true
   },
   "outputs": [],
   "source": [
    "# Am Anfang einmal ausführen!\n",
    "%matplotlib inline\n",
    "import matplotlib.pyplot as plt\n",
    "import matplotlib as mpl\n",
    "import numpy as np"
   ]
  },
  {
   "cell_type": "markdown",
   "metadata": {
    "deletable": true,
    "editable": true
   },
   "source": [
    "# Numpy: Numerical Python\n",
    "\n",
    "## Arrays"
   ]
  },
  {
   "cell_type": "code",
   "execution_count": null,
   "metadata": {
    "collapsed": false,
    "deletable": true,
    "editable": true
   },
   "outputs": [],
   "source": [
    "# erstelle einen Vektor der Größe 4 mit Einsen\n",
    "vektor = np.ones(4)\n",
    "print('Vektor', vektor)\n",
    "\n",
    "# multipliziere ALLE Einträge mit 5\n",
    "vektor *= 5\n",
    "print('Vektor', vektor)\n",
    "\n",
    "# ändere den ersten Eintrag auf 6\n",
    "vektor[0] = 6\n",
    "print('Vektor', vektor)\n",
    "\n",
    "# ändere den letzten Eintrag auf 7\n",
    "vektor[-1] = 7\n",
    "# ist das gleiche wie\n",
    "vektor[3] = 7\n",
    "print('Vektor', vektor)\n",
    "\n",
    "# ändere die beiden mittleren Einträge auf 9\n",
    "# beachte den hinteren Index: Eintrag mit Index 3 wird NICHT ausgewählt\n",
    "vektor[1:3] = 9\n",
    "print('Vektor', vektor)\n",
    "print('Auswahl', vektor[1:3])"
   ]
  },
  {
   "cell_type": "code",
   "execution_count": null,
   "metadata": {
    "collapsed": false,
    "deletable": true,
    "editable": true
   },
   "outputs": [],
   "source": [
    "matrix = np.eye(4, 4)\n",
    "print(matrix)"
   ]
  },
  {
   "cell_type": "code",
   "execution_count": null,
   "metadata": {
    "collapsed": false,
    "deletable": true,
    "editable": true
   },
   "outputs": [],
   "source": [
    "# Matrixmultiplikation\n",
    "mvp = matrix.dot(vektor)\n",
    "print(mvp)"
   ]
  },
  {
   "cell_type": "markdown",
   "metadata": {
    "deletable": true,
    "editable": true
   },
   "source": [
    "## 0.2 Rotation eines Vektors in 2D\n",
    "\n",
    "Ein Vektor $v$ kann um den Winkel $\\alpha$ mit Hilfe einer Rotationsmatrix rotiert werden:\n",
    "\n",
    "$v_{rot} = A \\cdot v$, mit\n",
    "\n",
    "$A = \\begin{pmatrix} \\cos \\alpha & -\\sin \\alpha\\\\ \\sin \\alpha & \\cos \\alpha\\end{pmatrix}$\n",
    "\n",
    "Beachte, dass Winkelfunktionen meistens auf Radian arbeiten:"
   ]
  },
  {
   "cell_type": "code",
   "execution_count": null,
   "metadata": {
    "collapsed": false,
    "deletable": true,
    "editable": true
   },
   "outputs": [],
   "source": [
    "# Umrechnung Grad in Radian:\n",
    "grad = 360\n",
    "rad = grad * np.pi / 180\n",
    "print('Grad: {0}, Rad: {1}'.format(grad, rad))\n",
    "\n",
    "# Umrechnung Radian in Grad:\n",
    "rad1 = np.pi\n",
    "grad1 = rad1 * 180 / np.pi\n",
    "print('Grad: {0}, Rad: {1}'.format(grad1, rad1))\n"
   ]
  },
  {
   "cell_type": "code",
   "execution_count": null,
   "metadata": {
    "collapsed": false,
    "deletable": true,
    "editable": true
   },
   "outputs": [],
   "source": [
    "vektor_2d = np.array((3.0, 4.0))\n",
    "\n",
    "# in Grad\n",
    "alpha_deg = 30\n",
    "alpha_rad = alpha_deg * np.pi / 180\n",
    "\n",
    "# baue rotationsmatrix\n",
    "A = np.array(((np.cos(alpha_rad), - np.sin(alpha_rad)),\n",
    "              (np.sin(alpha_rad), np.cos(alpha_rad))))\n",
    "print('A', A)\n",
    "print('Dimensionen A', A.shape)\n",
    "\n",
    "# Rotation\n",
    "vektor_2d_rot = A.dot(vektor_2d)\n",
    "print('Rotierter Vektor', vektor_2d_rot)"
   ]
  },
  {
   "cell_type": "code",
   "execution_count": null,
   "metadata": {
    "collapsed": false,
    "deletable": true,
    "editable": true
   },
   "outputs": [],
   "source": [
    "# plot\n",
    "fig, ax = plt.subplots(1, 1)\n",
    "ax.plot([0, vektor_2d[0]], [0, vektor_2d[1]], '-',\n",
    "        color='k', label='original')\n",
    "ax.plot([0, vektor_2d_rot[0]], [0, vektor_2d_rot[1]],\n",
    "        '-', color='r', label='rotiert')\n",
    "\n",
    "ax.set_xlim(-5, 5)\n",
    "ax.set_ylim(-5, 5)\n",
    "ax.grid()\n",
    "ax.legend(loc='best')\n",
    "ax.set_xlabel('x')\n",
    "ax.set_ylabel('y')"
   ]
  },
  {
   "cell_type": "markdown",
   "metadata": {
    "deletable": true,
    "editable": true
   },
   "source": [
    "## Aufgabe Rotation:\n",
    "\n",
    "* Rotation einer Gerade, welche nicht durch den Nullpunkt geht. Rotiere die Gerade, definiert durch die Punkte P1 und P2, um 50 Grad. P1 = (2.0, 1.5), P2 = (6.0, -3.0)\n",
    "\n",
    "  Plotte das Ergebnis\n",
    "  \n",
    "Tipp: Benutze die Vektorvariante der Geradegleichung: https://de.wikipedia.org/wiki/Geradengleichung"
   ]
  },
  {
   "cell_type": "markdown",
   "metadata": {
    "deletable": true,
    "editable": true
   },
   "source": [
    "## Matplotlib\n",
    "\n"
   ]
  },
  {
   "cell_type": "markdown",
   "metadata": {
    "deletable": true,
    "editable": true
   },
   "source": [
    "# Numpy: Einlesen von Daten\n",
    "\n",
    "## einfache Textdateien"
   ]
  },
  {
   "cell_type": "code",
   "execution_count": null,
   "metadata": {
    "collapsed": false,
    "deletable": true,
    "editable": true
   },
   "outputs": [],
   "source": [
    "# Erstellen einer einfachen Datei:\n",
    "with open('einfache_textdatei.dat', 'w') as fid:\n",
    "    fid.write(\"\"\"0.0 0.0\n",
    "1.0 2.0\n",
    "2.0 4.0\n",
    "3.0 5.0\"\"\")"
   ]
  },
  {
   "cell_type": "code",
   "execution_count": null,
   "metadata": {
    "collapsed": false,
    "deletable": true,
    "editable": true
   },
   "outputs": [],
   "source": [
    "# Einlesen der Datei\n",
    "data = np.loadtxt('einfache_textdatei.dat')\n",
    "print(\"Datentyp:\", type(data))\n",
    "print(\"Dimensionen des Arrays:\", data.shape)\n",
    "print(\"Inhalt:\", data)\n",
    "print(\"Erste Spalte:\", data[:, 0])"
   ]
  },
  {
   "cell_type": "markdown",
   "metadata": {
    "deletable": true,
    "editable": true
   },
   "source": [
    "### Aufgabe Numpy a\n",
    "\n",
    "* Plotte die eingelesenen Daten mit Hilfe der Funktion `plt.plot`"
   ]
  },
  {
   "cell_type": "markdown",
   "metadata": {
    "deletable": true,
    "editable": true
   },
   "source": [
    "### Aufgabe Numpy b\n",
    "\n",
    "Lese eine Datei mit Header ein. Diese kann erstellt werden mit dem Code:\n",
    "\n",
    "    with open('einfache_textdatei_mit_header.dat', 'w') as fid:\n",
    "        fid.write(\"\"\"# x y\n",
    "    0.0 0.0\n",
    "    1.0 2.0\n",
    "    2.0 4.0\n",
    "    3.0 5.0\"\"\")\n",
    "\n",
    "Die erste Zeile muss ignoriert werden, um die Daten erfolgreich einzulesen.\n",
    "Benutze dafür die entsprechende Option der Funktion `np.loadtxt`. Um alle Optionen angezeigt zu bekommen, tippe\n",
    "`np.loadtxt(`. Die Kontexthilfe kann nun durch gleichzeitiges Drücken der Tasten SHIFT + TAB geöffnet werden (zuerst SHIFT, danach TAB). Nochmaliges Drücken von TAB (bei gehaltenem SHIFT, vergrößert die Hilfe und zeigt mehr Text an."
   ]
  },
  {
   "cell_type": "markdown",
   "metadata": {
    "deletable": true,
    "editable": true
   },
   "source": [
    "## Aufgabe Numpy c\n",
    "\n",
    "* Generiere eine 2x3 Matrix und speichere dies in der Datei `matrix_2x3.dat` mit Hilfe des Befehls `np.savetxt`.\n",
    "* Lese die Datei wieder ein, und vergleiche die Dimensionen der entstehenden Arrays"
   ]
  },
  {
   "cell_type": "markdown",
   "metadata": {
    "deletable": true,
    "editable": true
   },
   "source": [
    "# Elektrische Potentialverteilung\n",
    "\n",
    "# Punktquelle im Halbraum\n",
    "\n",
    "Das elektrische Potential in einem homogenen Vollraum ist definiert als:\n",
    "\n",
    "$\\phi(r) = \\frac{\\rho I}{4 \\pi r}$\n",
    "\n",
    "Im Folgenden plotten berechnen wir das Potential auf einem regulären Gitter, und plotten es in einen Contourplot "
   ]
  },
  {
   "cell_type": "code",
   "execution_count": null,
   "metadata": {
    "collapsed": false,
    "deletable": true,
    "editable": true
   },
   "outputs": [],
   "source": [
    "# definiere x- und y-Koordinaten der Gitter\n",
    "x = np.arange(-5, 5, 0.1)\n",
    "y = np.arange(-5, 5, 0.1)\n",
    "# erstelle das Gitter\n",
    "X, Y = np.meshgrid(x, y)\n",
    "# berechne Abstände zum Nullpunkt\n",
    "# beachte die Offsets 0.05. Diese dienen nur dazu, die Singulariät (bzw. SEHR große\n",
    "# Werte) zu verhindern \n",
    "r = np.sqrt((X - 0.05)**2 + (Y - 0.05)**2)\n",
    "# Strom [A]\n",
    "I = 1\n",
    "# spez. Widerstand [Ohm m]\n",
    "rho = 100\n",
    "\n",
    "phi = rho * I / (4 * np.pi * r)\n",
    "phi_single = phi\n",
    "\n",
    "fig, ax = plt.subplots(1, 1, figsize=(10, 10))\n",
    "cf = ax.contourf(X, Y, np.log10(phi))\n",
    "cb = fig.colorbar(cf)\n",
    "ax.set_aspect('equal')"
   ]
  },
  {
   "cell_type": "markdown",
   "metadata": {
    "deletable": true,
    "editable": true
   },
   "source": [
    "# Aufgaben\n",
    "\n",
    "* Setze x- und y-labels\n",
    "* Setze einen Titel\n",
    "* Setze ein Colorbar-Label (`cb.set_label`)\n",
    "* Setze die Offsets auf Null, und plotte das entstehende Potentialfeld\n",
    "* Ändere die Plotart auf Kontourlinien (`ax.contourf`)\n",
    "* Ändere die Anzahl der Levels im Kontourplot\n",
    "* Fixiere die Levels auf bestimmte Werte\n",
    "* \n",
    "\n",
    "Tipp: Benutze die Kontexthilfe von contour(...), oder die Matplotlib-Hilfe"
   ]
  },
  {
   "cell_type": "markdown",
   "metadata": {
    "deletable": true,
    "editable": true
   },
   "source": [
    "## Zwei Potentialquellen\n",
    "\n",
    "Benutze das Superpositionsprinzip, um das resultierende Potentialfeld zweier Stromquellen zu berechnen."
   ]
  },
  {
   "cell_type": "code",
   "execution_count": null,
   "metadata": {
    "collapsed": false,
    "deletable": true,
    "editable": true
   },
   "outputs": [],
   "source": [
    "# statt des offsets werdem hier keine Glatten Knotenpunkte berechnet\n",
    "x = np.arange(-5, 5, 0.101)\n",
    "y = np.arange(-5, 5, 0.101)\n",
    "X, Y = np.meshgrid(x, y)\n",
    "r1 = np.sqrt((X)**2 + (Y)**2)\n",
    "r2 = np.sqrt((X + 4)**2 + Y**2)\n",
    "I = 1\n",
    "rho = 100\n",
    "\n",
    "phi1 = rho * I / (4 * np.pi * r1)\n",
    "phi2 = rho * I / (4 * np.pi * r2)\n",
    "phi = phi1 + phi2\n",
    "\n",
    "fig, ax = plt.subplots(1, 1)\n",
    "cf = ax.contourf(X, Y, np.log10(phi))\n",
    "_ = fig.colorbar(cf)"
   ]
  },
  {
   "cell_type": "markdown",
   "metadata": {
    "deletable": true,
    "editable": true
   },
   "source": [
    "## Aufgaben\n",
    "\n",
    "* Ändere das Vorzeichen einer der Stromquellen. Welche Fehlermeldung\n",
    "  wird ausgegeben, und warum? Welche Lösungsmöglichkeiten gibt es?\n",
    "* Füge eine dritte Stromquelle hinzu\n",
    "* Erzeuge einen Plot, welcher das Potential gegen die X-Achse für\n",
    "  y=0 auszeigt. Extrahiere die nötigen Daten aus dem Array `phi`"
   ]
  },
  {
   "cell_type": "markdown",
   "metadata": {
    "deletable": true,
    "editable": true
   },
   "source": [
    "## Lineare Regression\n",
    "\n",
    "Im Folgenden wird eine lineare Regression auf zwei verschiedene Arten implementiert."
   ]
  },
  {
   "cell_type": "code",
   "execution_count": null,
   "metadata": {
    "collapsed": false,
    "deletable": true,
    "editable": true
   },
   "outputs": [],
   "source": [
    "# Erzeuge eine Gerade\n",
    "x = np.arange(0, 20, 1)\n",
    "y = 3.4 * x + 2.1\n",
    "\n",
    "# Füge Rauschen hinzu\n",
    "np.random.seed(5)\n",
    "# Standardabweichung\n",
    "std_noise = 10\n",
    "# verschiebe die Kurve, so dass die Zufallswerte symmetrisch um die\n",
    "# Datenpunkte verteilt sind\n",
    "offset = std_noise / 2.0\n",
    "y_plus_noise = y + np.random.random(size=y.size) * std_noise - offset\n",
    "\n",
    "# Plotte\n",
    "fig, ax = plt.subplots(1, 1, figsize=(7,7))\n",
    "ax.plot(x, y, '.-', label='orig')\n",
    "_ = ax.plot(x, y_plus_noise, '.-', label='Rohdaten')\n"
   ]
  },
  {
   "cell_type": "code",
   "execution_count": null,
   "metadata": {
    "collapsed": false,
    "deletable": true,
    "editable": true
   },
   "outputs": [],
   "source": [
    "# Regression per Hand\n",
    "# https://de.wikipedia.org/wiki/Lineare_Regression\n",
    "\n",
    "N = y_plus_noise.size\n",
    "ymean = np.mean(y_plus_noise)\n",
    "xmean = np.mean(x)\n",
    "# Steigung\n",
    "zaehler = (N * np.sum(x * y_plus_noise) - np.sum(x) * np.sum(y_plus_noise))\n",
    "nenner = (N * np.sum(x**2) - (np.sum(x))**2)\n",
    "b = zaehler / nenner\n",
    "\n",
    "# Achsenabschnitt\n",
    "a = ymean - b * xmean\n",
    "\n",
    "ymod = b * x + a\n",
    "\n",
    "fig, ax = plt.subplots(1, 1)\n",
    "ax.plot(x, ymod, label='Fit')\n",
    "ax.plot(x, y_plus_noise, label='Daten')\n",
    "_ = ax.legend()"
   ]
  },
  {
   "cell_type": "code",
   "execution_count": null,
   "metadata": {
    "collapsed": false,
    "deletable": true,
    "editable": true
   },
   "outputs": [],
   "source": [
    "# geht auch einfacher\n",
    "p = np.polyfit(x, y_plus_noise, 1)\n",
    "print \n",
    "\n",
    "fig, ax = plt.subplots(1, 1)\n",
    "ax.plot(x, y_plus_noise)\n",
    "_ = ax.plot(x, np.polyval(p, x))"
   ]
  },
  {
   "cell_type": "markdown",
   "metadata": {
    "deletable": true,
    "editable": true
   },
   "source": [
    "## Aufgaben\n",
    "\n",
    "* Das Bestimmtheitsmaß $R^2$ gibt die Güte des linearen Fits an:\n",
    "\n",
    "  $R^2 = 1 - \\frac{(\\sum_i y_i - f(x_i))^2} {(\\sum_i y_i - \\hat{y})^2}$,\n",
    "  mit $y_i$ der i-te Datenwert, $\\hat{y}$ der Mittelwert der Daten,\n",
    "  und $f(x_i)$ die i-te Fitvorhersage.\n",
    "  \n",
    "  Implementiere das Bestimmtheitsmaß als Funktion\n",
    "  \n",
    "  def Rsquare(x, y, f):\n",
    "      ...\n",
    "      \n",
    "  siehe auch: https://de.wikipedia.org/wiki/Bestimmtheitsma%C3%9F\n",
    "  \n",
    "* Berechne $R^2$ in Abhängigkeit der Standardabweichung des Rauschens.\n",
    "  Plotte std vs. $R^2$\n",
    "* Benutze die Funktion `np.polyval`, um ein Polynom zweiten Gerades\n",
    "  zu erzeugen und zu plotten. Füge zusätzlich eine Rauschkomponente hinzu."
   ]
  },
  {
   "cell_type": "markdown",
   "metadata": {
    "deletable": true,
    "editable": true
   },
   "source": [
    "# Lösungen"
   ]
  },
  {
   "cell_type": "code",
   "execution_count": null,
   "metadata": {
    "collapsed": false,
    "deletable": true,
    "editable": true
   },
   "outputs": [],
   "source": [
    "# Lösung Rotation\n",
    "P1 = np.array((2.0, 1.5))\n",
    "P2 = np.array((6.0, -3.0))\n",
    "\n",
    "# Geradengleichung\n",
    "p = P1\n",
    "u = P2 - P1\n",
    "\n",
    "# Rotation\n",
    "alpha_deg = 50\n",
    "alpha_rad = alpha_deg * np.pi / 180\n",
    "A = np.array(((np.cos(alpha_rad), - np.sin(alpha_rad)),\n",
    "              (np.sin(alpha_rad), np.cos(alpha_rad))))\n",
    "\n",
    "u_rot = A.dot(u)\n",
    "\n",
    "P1rot = P1\n",
    "P2rot = p + u_rot\n",
    "\n",
    "Protx, Proty = [xy for xy in zip(P1rot, P2rot)]\n",
    "\n",
    "# Anfangs- und Endpunkte der Vektoren\n",
    "px = [0, P1[0]]\n",
    "py = [0, P1[1]]\n",
    "\n",
    "Px, Py = [xy for xy in zip(P1, P2)]\n",
    "\n",
    "fig, ax = plt.subplots(1, 1, figsize=(5,5), dpi=300)\n",
    "ax.plot(px, py, label='p', linestyle='dashed')\n",
    "ax.plot(Px, Py, label='u')\n",
    "\n",
    "ax.plot(Protx, Proty, label='u_rot')\n",
    "\n",
    "ax.set_xlim(-7, 7)\n",
    "ax.set_ylim(-7, 7)\n",
    "ax.grid()\n",
    "ax.legend(loc='best')\n",
    "ax.set_xlabel('x')\n",
    "ax.set_ylabel('y')\n",
    "ax.set_aspect('equal')"
   ]
  },
  {
   "cell_type": "code",
   "execution_count": null,
   "metadata": {
    "collapsed": false,
    "deletable": true,
    "editable": true
   },
   "outputs": [],
   "source": [
    "# Lösung numpy a\n",
    "data = np.loadtxt('einfache_textdatei.dat')\n",
    "plt.plot(data[:, 0], data[:, 1], '.-')"
   ]
  },
  {
   "cell_type": "code",
   "execution_count": null,
   "metadata": {
    "collapsed": false,
    "deletable": true,
    "editable": true
   },
   "outputs": [],
   "source": [
    "# Lösung Numpy b\n",
    "with open('einfache_textdatei_mit_header.dat', 'w') as fid:\n",
    "        fid.write(\"\"\"# x y\n",
    "0.0 0.0\n",
    "1.0 2.0\n",
    "2.0 4.0\n",
    "3.0 5.0\"\"\")\n",
    "        \n",
    "data = np.loadtxt('einfache_textdatei_mit_header.dat', skiprows=1)\n",
    "print(data)"
   ]
  }
 ],
 "metadata": {
  "kernelspec": {
   "display_name": "Python 3",
   "language": "python",
   "name": "python3"
  },
  "language_info": {
   "codemirror_mode": {
    "name": "ipython",
    "version": 3
   },
   "file_extension": ".py",
   "mimetype": "text/x-python",
   "name": "python",
   "nbconvert_exporter": "python",
   "pygments_lexer": "ipython3",
   "version": "3.4.2"
  }
 },
 "nbformat": 4,
 "nbformat_minor": 0
}
